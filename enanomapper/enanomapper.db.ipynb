{
 "cells": [
  {
   "cell_type": "markdown",
   "metadata": {},
   "source": [
    "# Retrieve data from eNanomapper database\n",
    "https://search.data.enanomapper.net/\n",
    "\n",
    "- This notebook uses Apache Solr API and AMBIT REST API  \n",
    "- see OpenAPI3 interactive documentation at https://api.ideaconsult.net"
   ]
  },
  {
   "cell_type": "code",
   "execution_count": null,
   "metadata": {},
   "outputs": [],
   "source": [
    "from importlib import reload \n",
    "import yaml\n",
    "from solrscope import aa\n",
    "from solrscope import units\n",
    "import ipywidgets as widgets\n",
    "from ipywidgets import interact, interactive, fixed, interact_manual\n",
    "import requests\n",
    "\n",
    "import measurement\n",
    "from solrscope import client_solr\n",
    "from solrscope import client_ambit\n",
    "from solrscope import annotation\n",
    "\n",
    "import pandas as pd\n",
    "import os.path\n",
    "import numpy as np\n",
    "import datetime, time\n",
    "import json\n",
    "import sys\n",
    "import ipywidgets as widgets\n",
    "\n",
    "import logging\n",
    "from logging.config import fileConfig\n",
    "fileConfig('logging_endpoints_config.ini')\n",
    "\n",
    "global logger\n",
    "logger = logging.getLogger()\n",
    "\n",
    "%run units.py\n",
    "\n",
    "logger.debug('Started at %s \\t%s',os.name, datetime.datetime.now())\n",
    "\n"
   ]
  },
  {
   "cell_type": "markdown",
   "metadata": {},
   "source": [
    "### Retrieve endpoints using AMBIT REST API"
   ]
  },
  {
   "cell_type": "code",
   "execution_count": null,
   "metadata": {},
   "outputs": [],
   "source": [
    "print('Select enanoMapper aggregated search service:')\n",
    "style = {'description_width': 'initial'}\n",
    "config,config_servers, config_security, auth_object, msg = aa.parseOpenAPI3()    \n",
    "service_widget = widgets.Dropdown(\n",
    "    options=config_servers['url'],\n",
    "    description='Service:',\n",
    "    disabled=False,\n",
    "    style=style\n",
    ")\n",
    "if config_security is None:\n",
    "    service = interactive(aa.search_service_open,url=service_widget)\n",
    "else:\n",
    "    print(msg)\n",
    "    apikey_widget=widgets.Text(\n",
    "            placeholder='',\n",
    "            description=config_security,\n",
    "            disabled=False,\n",
    "            style=style\n",
    "    )    \n",
    "    service = interactive(aa.search_service_protected,url=service_widget,apikey=apikey_widget)    \n",
    "\n",
    "display(service)"
   ]
  },
  {
   "cell_type": "code",
   "execution_count": null,
   "metadata": {},
   "outputs": [],
   "source": [
    "service_uri=service_widget.value\n",
    "if auth_object!=None:\n",
    "    auth_object.setKey(apikey_widget.value)\n",
    "print(\"Sending queries to {}\".format(service_uri))\n",
    "facets = client_solr.Facets()"
   ]
  },
  {
   "cell_type": "code",
   "execution_count": null,
   "metadata": {},
   "outputs": [],
   "source": [
    "ambit_uri=service_uri + \"/enm/nanoreg1\"\n",
    "ambit=client_ambit.AMBITQuery(root_uri=ambit_uri,key=\"/study\")\n",
    "print(ambit.uricompose())\n",
    "results = ambit.get(auth=auth_object,page=0,pagesize=1000)\n",
    "data = results.json()"
   ]
  },
  {
   "cell_type": "code",
   "execution_count": null,
   "metadata": {},
   "outputs": [],
   "source": [
    "#Select endpoint\n",
    "_sections={}\n",
    "\n",
    "top_sections = []\n",
    "for facet in data['facet']:\n",
    "    #print(\"{}\\t{}\\t{}\\t{}\".format(facet['subcategory'],facet['endpoint'],facet['count'],facet['value']))\n",
    "    top = facet['subcategory']\n",
    "    if not top in top_sections:\n",
    "        top_sections.append(top)\n",
    "        \n",
    "    if not top in _sections:\n",
    "        _sections[top] = []\n",
    "    \n",
    "    _sections[top].append(facet['endpoint'])\n",
    "\n",
    "top_widget = widgets.Dropdown(\n",
    "    options=top_sections,\n",
    "    value=top_sections[0],\n",
    "    description='Select:',\n",
    "    disabled=False,\n",
    ")\n",
    "display(top_widget)\n"
   ]
  },
  {
   "cell_type": "code",
   "execution_count": null,
   "metadata": {},
   "outputs": [],
   "source": [
    "top=top_widget.value\n",
    "category_widget = widgets.Dropdown(\n",
    "    options=_sections[top],\n",
    "    value=_sections[top][1],\n",
    "    description='Endpoint:',\n",
    "    disabled=False,\n",
    ")\n",
    "display(category_widget)"
   ]
  },
  {
   "cell_type": "markdown",
   "metadata": {},
   "source": [
    "#### Setup the query"
   ]
  },
  {
   "cell_type": "code",
   "execution_count": null,
   "metadata": {},
   "outputs": [],
   "source": [
    "freetext_widget=widgets.Text(\n",
    "    value='NM220,NM101',\n",
    "    description='Search',\n",
    "    disabled=False\n",
    ")\n",
    "freetext_widget"
   ]
  },
  {
   "cell_type": "code",
   "execution_count": null,
   "metadata": {},
   "outputs": [],
   "source": [
    "materialfilter=freetext_widget.value\n",
    "if \"\" == materialfilter:\n",
    "    materialfilter=None\n",
    "    \n",
    "section=category_widget.value\n",
    "fields=None\n",
    "\n",
    "endpoint=\"*\"\n",
    "\n",
    "docs_query = client_solr.StudyDocuments()\n",
    "docs_query.settings['endpointfilter'] = ' effectendpoint_s: {}'.format(endpoint)\n",
    "docs_query.settings['query_guidance'] = None\n",
    "docs_query.settings['query_organism'] = None\n",
    "docs_query.settings['fields'] = None\n",
    "docs_query.setStudyFilter({' topcategory_s': top, 'endpointcategory_s':section}) \n",
    "                    \n",
    "query = docs_query.getQuery(textfilter=materialfilter,facets=None,fq=None, rows=10, _params=True, _conditions=True, _composition=False );\n",
    "logger.info(query)"
   ]
  },
  {
   "cell_type": "markdown",
   "metadata": {},
   "source": [
    "### Run the query"
   ]
  },
  {
   "cell_type": "code",
   "execution_count": null,
   "metadata": {},
   "outputs": [],
   "source": [
    "#rows = []  \n",
    "print(url)\n",
    "r = client_solr.get(service_uri,query=query,auth=auth_object)\n",
    "print(r.status_code)\n",
    "docs=r.json()['response']['docs']\n",
    "#print(docs)\n",
    "rows = docs_query.parse(docs)\n",
    "\n"
   ]
  },
  {
   "cell_type": "code",
   "execution_count": null,
   "metadata": {},
   "outputs": [],
   "source": [
    "#print(\"Substances: {}\".format(len(rows)))\n",
    "df = pd.DataFrame(rows)\n",
    "df.to_csv(section+\".nosmiles.txt\",sep='\\t',index=False)\n",
    "#df.head()\n",
    "df.head()"
   ]
  },
  {
   "cell_type": "code",
   "execution_count": null,
   "metadata": {},
   "outputs": [],
   "source": [
    "df.columns"
   ]
  },
  {
   "cell_type": "code",
   "execution_count": null,
   "metadata": {},
   "outputs": [],
   "source": [
    "import numpy as np\n",
    "def highlight_max(s):\n",
    "    is_max = s == s.max()\n",
    "    return ['background-color: red' if v else '' for v in is_max]\n",
    "\n",
    "for criteria in [\"value.range.lo\"]:\n",
    "    tmp = pd.pivot_table(df, values=criteria, index=['m.public.name'], columns=['p.oht.module','p.oht.section','p.guidance','value.endpoint','value.endpoint_type','value.range.lo.qualifier','value.unit'], aggfunc=np.mean).reset_index()\n",
    "    #tmp.style.highlight_null(null_color='red')\n",
    "    \n",
    "    display(tmp.style.apply(highlight_max,subset=top_sections))"
   ]
  },
  {
   "cell_type": "code",
   "execution_count": null,
   "metadata": {},
   "outputs": [],
   "source": [
    "tmp=df.groupby(by=[\"m.public.name\",\"p.guidance\",\"value.endpoint\",\"value.endpoint_type\",\"value.range.lo.qualifier\",\"value.unit\"]).agg({\"value.range.lo\" : [\"min\",\"max\",\"mean\",\"std\",\"count\"]}).reset_index()\n",
    "tmp.columns = [\"_\".join(x) for x in tmp.columns.ravel()]\n",
    "print(\"Substances {}\".format(tmp.shape[0]))\n",
    "display(tmp)\n"
   ]
  },
  {
   "cell_type": "code",
   "execution_count": null,
   "metadata": {},
   "outputs": [],
   "source": []
  }
 ],
 "metadata": {
  "kernelspec": {
   "display_name": "Python 3",
   "language": "python",
   "name": "python3"
  },
  "language_info": {
   "codemirror_mode": {
    "name": "ipython",
    "version": 3
   },
   "file_extension": ".py",
   "mimetype": "text/x-python",
   "name": "python",
   "nbconvert_exporter": "python",
   "pygments_lexer": "ipython3",
   "version": "3.7.3"
  },
  "toc": {
   "base_numbering": 1,
   "nav_menu": {},
   "number_sections": false,
   "sideBar": false,
   "skip_h1_title": false,
   "title_cell": "Table of Contents",
   "title_sidebar": "Contents",
   "toc_cell": false,
   "toc_position": {},
   "toc_section_display": false,
   "toc_window_display": false
  }
 },
 "nbformat": 4,
 "nbformat_minor": 2
}
