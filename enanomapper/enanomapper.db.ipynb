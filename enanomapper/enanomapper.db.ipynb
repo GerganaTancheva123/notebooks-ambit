{
 "cells": [
  {
   "cell_type": "markdown",
   "metadata": {},
   "source": [
    "# Retrieve data from eNanomapper database\n",
    "https://search.data.enanomapper.net/\n",
    "\n",
    "- This notebook uses Apache Solr API and AMBIT REST API  \n",
    "- see OpenAPI3 interactive documentation at https://api.ideaconsult.net"
   ]
  },
  {
   "cell_type": "code",
   "execution_count": 1,
   "metadata": {},
   "outputs": [],
   "source": [
    "from importlib import reload \n",
    "import yaml\n",
    "from solrscope import aa\n",
    "from solrscope import units\n",
    "import ipywidgets as widgets\n",
    "from ipywidgets import interact, interactive, fixed, interact_manual\n",
    "import requests\n",
    "\n",
    "import measurement\n",
    "from solrscope import client_solr\n",
    "from solrscope import client_ambit\n",
    "from solrscope import annotation\n",
    "\n",
    "import pandas as pd\n",
    "import os.path\n",
    "import numpy as np\n",
    "import datetime, time\n",
    "import json\n",
    "import sys\n",
    "import ipywidgets as widgets\n",
    "\n",
    "import logging\n",
    "from logging.config import fileConfig\n",
    "fileConfig('logging_endpoints_config.ini')\n",
    "\n",
    "global logger\n",
    "logger = logging.getLogger()\n",
    "\n",
    "%run units.py\n",
    "\n",
    "logger.debug('Started at %s \\t%s',os.name, datetime.datetime.now())\n",
    "\n"
   ]
  },
  {
   "cell_type": "markdown",
   "metadata": {},
   "source": [
    "### Retrieve endpoints "
   ]
  },
  {
   "cell_type": "code",
   "execution_count": 2,
   "metadata": {},
   "outputs": [
    {
     "name": "stdout",
     "output_type": "stream",
     "text": [
      "Select enanoMapper aggregated search service:\n",
      "Enter `X-Gravitee-Api-Key` you have received upon subscription to http://api.ideaconsult.net\n"
     ]
    },
    {
     "name": "stderr",
     "output_type": "stream",
     "text": [
      "F:\\nina\\src-phabricator\\notebooks-ambit\\enanomapper\\solrscope\\aa.py:45: YAMLLoadWarning: calling yaml.load() without Loader=... is deprecated, as the default Loader is unsafe. Please read https://msg.pyyaml.org/load for full details.\n",
      "  config = yaml.load(requests.get(url+config).text)\n"
     ]
    },
    {
     "data": {
      "application/vnd.jupyter.widget-view+json": {
       "model_id": "77705ff1ea4647f0bccbea62df342cc6",
       "version_major": 2,
       "version_minor": 0
      },
      "text/plain": [
       "interactive(children=(Dropdown(description='Service:', options=('https://api.ideaconsult.net/enanomapper', 'ht…"
      ]
     },
     "metadata": {},
     "output_type": "display_data"
    }
   ],
   "source": [
    "print('Select enanoMapper aggregated search service:')\n",
    "style = {'description_width': 'initial'}\n",
    "config,config_servers, config_security, auth_object, msg = aa.parseOpenAPI3()    \n",
    "service_widget = widgets.Dropdown(\n",
    "    options=config_servers['url'],\n",
    "    description='Service:',\n",
    "    disabled=False,\n",
    "    style=style\n",
    ")\n",
    "if config_security is None:\n",
    "    service = interactive(aa.search_service_open,url=service_widget)\n",
    "else:\n",
    "    print(msg)\n",
    "    apikey_widget=widgets.Text(\n",
    "            placeholder='',\n",
    "            description=config_security,\n",
    "            disabled=False,\n",
    "            style=style\n",
    "    )    \n",
    "    service = interactive(aa.search_service_protected,url=service_widget,apikey=apikey_widget)    \n",
    "\n",
    "display(service)"
   ]
  },
  {
   "cell_type": "code",
   "execution_count": 3,
   "metadata": {},
   "outputs": [
    {
     "name": "stdout",
     "output_type": "stream",
     "text": [
      "Sending queries to https://api.ideaconsult.net/nanoreg1\n"
     ]
    }
   ],
   "source": [
    "service_uri=service_widget.value\n",
    "if auth_object!=None:\n",
    "    auth_object.setKey(apikey_widget.value)\n",
    "print(\"Sending queries to {}\".format(service_uri))\n"
   ]
  },
  {
   "cell_type": "code",
   "execution_count": 4,
   "metadata": {},
   "outputs": [
    {
     "data": {
      "text/html": [
       "<div>\n",
       "<style scoped>\n",
       "    .dataframe tbody tr th:only-of-type {\n",
       "        vertical-align: middle;\n",
       "    }\n",
       "\n",
       "    .dataframe tbody tr th {\n",
       "        vertical-align: top;\n",
       "    }\n",
       "\n",
       "    .dataframe thead th {\n",
       "        text-align: right;\n",
       "    }\n",
       "</style>\n",
       "<table border=\"1\" class=\"dataframe\">\n",
       "  <thead>\n",
       "    <tr style=\"text-align: right;\">\n",
       "      <th></th>\n",
       "      <th>topcategory_s</th>\n",
       "      <th>endpointcategory_s</th>\n",
       "      <th>Number of data points</th>\n",
       "      <th>endpointcategory_term</th>\n",
       "      <th>endpointcategory_name</th>\n",
       "    </tr>\n",
       "  </thead>\n",
       "  <tbody>\n",
       "    <tr>\n",
       "      <th>0</th>\n",
       "      <td>TOX</td>\n",
       "      <td>ENM_0000068_SECTION</td>\n",
       "      <td>10990</td>\n",
       "      <td>http://www.bioassayontology.org/bao#ENM_0000068</td>\n",
       "      <td>CellViability</td>\n",
       "    </tr>\n",
       "    <tr>\n",
       "      <th>1</th>\n",
       "      <td>TOX</td>\n",
       "      <td>TO_GENETIC_IN_VITRO_SECTION</td>\n",
       "      <td>7811</td>\n",
       "      <td>http://www.bioassayontology.org/bao#BAO_0002167</td>\n",
       "      <td>Genetic toxicity invitro</td>\n",
       "    </tr>\n",
       "    <tr>\n",
       "      <th>2</th>\n",
       "      <td>TOX</td>\n",
       "      <td>NPO_1339_SECTION</td>\n",
       "      <td>3429</td>\n",
       "      <td>http://purl.obolibrary.org/obo/NPO_1339</td>\n",
       "      <td>Immunotoxicity</td>\n",
       "    </tr>\n",
       "    <tr>\n",
       "      <th>3</th>\n",
       "      <td>TOX</td>\n",
       "      <td>TO_REPEATED_ORAL_SECTION</td>\n",
       "      <td>1487</td>\n",
       "      <td>http://purl.enanomapper.org/onto/ENM_0000021</td>\n",
       "      <td>Repeated dose toxicity-oral</td>\n",
       "    </tr>\n",
       "    <tr>\n",
       "      <th>4</th>\n",
       "      <td>TOX</td>\n",
       "      <td>ENM_0000044_SECTION</td>\n",
       "      <td>1322</td>\n",
       "      <td>http://purl.enanomapper.org/onto/ENM_0000044</td>\n",
       "      <td>Barrier integrity</td>\n",
       "    </tr>\n",
       "  </tbody>\n",
       "</table>\n",
       "</div>"
      ],
      "text/plain": [
       "  topcategory_s           endpointcategory_s  Number of data points  \\\n",
       "0           TOX          ENM_0000068_SECTION                  10990   \n",
       "1           TOX  TO_GENETIC_IN_VITRO_SECTION                   7811   \n",
       "2           TOX             NPO_1339_SECTION                   3429   \n",
       "3           TOX     TO_REPEATED_ORAL_SECTION                   1487   \n",
       "4           TOX          ENM_0000044_SECTION                   1322   \n",
       "\n",
       "                             endpointcategory_term  \\\n",
       "0  http://www.bioassayontology.org/bao#ENM_0000068   \n",
       "1  http://www.bioassayontology.org/bao#BAO_0002167   \n",
       "2          http://purl.obolibrary.org/obo/NPO_1339   \n",
       "3     http://purl.enanomapper.org/onto/ENM_0000021   \n",
       "4     http://purl.enanomapper.org/onto/ENM_0000044   \n",
       "\n",
       "         endpointcategory_name  \n",
       "0                CellViability  \n",
       "1     Genetic toxicity invitro  \n",
       "2               Immunotoxicity  \n",
       "3  Repeated dose toxicity-oral  \n",
       "4            Barrier integrity  "
      ]
     },
     "execution_count": 4,
     "metadata": {},
     "output_type": "execute_result"
    }
   ],
   "source": [
    "facets = client_solr.Facets()\n",
    "\n",
    "df = facets.summary(service_uri,auth_object, query=\"*:*\",fields=[\"topcategory_s\",\"endpointcategory_s\"])    \n",
    "df.head()\n"
   ]
  },
  {
   "cell_type": "code",
   "execution_count": 5,
   "metadata": {},
   "outputs": [
    {
     "data": {
      "application/vnd.jupyter.widget-view+json": {
       "model_id": "be4a9d3a0ab9421886863589e1018b34",
       "version_major": 2,
       "version_minor": 0
      },
      "text/plain": [
       "interactive(children=(Dropdown(description='Select:', index=1, options=('TOX', 'P-CHEM', 'ECOTOX'), value='P-C…"
      ]
     },
     "metadata": {},
     "output_type": "display_data"
    },
    {
     "data": {
      "text/plain": [
       "<function __main__.define_query(_top, _section, _freetext, _endpoint)>"
      ]
     },
     "execution_count": 5,
     "metadata": {},
     "output_type": "execute_result"
    }
   ],
   "source": [
    "top_widget = widgets.Dropdown(\n",
    "    options=df['topcategory_s'].unique(),\n",
    "    value=\"P-CHEM\",\n",
    "    description='Select:',\n",
    "    disabled=False,\n",
    ")\n",
    "category_widget = widgets.Dropdown(\n",
    "    options=list(df[df['topcategory_s']==\"P-CHEM\"][[\"endpointcategory_name\",\"endpointcategory_s\"]].itertuples(index=False,name=None)),\n",
    "    #value=,\n",
    "    description='Category:',\n",
    "    disabled=False,\n",
    ")\n",
    "freetext_widget=widgets.Text(\n",
    "    value='NM220,NM101',\n",
    "    description='Free text query',\n",
    "    disabled=False\n",
    ")\n",
    "endpoint_widget=widgets.Text(\n",
    "    value='*',\n",
    "    description='Endpoint',\n",
    "    disabled=False\n",
    ")\n",
    "def define_query(_top,_section,_freetext,_endpoint):\n",
    "    #category_widget.options=df[df['topcategory_s']==top]['endpointcategory_s'].unique()\n",
    "    filtered = df[df['topcategory_s']==_top]\n",
    "    category_widget.options = list(filtered[[\"endpointcategory_name\",\"endpointcategory_s\"]].itertuples(index=False,name=None))\n",
    "    top = _top\n",
    "    section= _section\n",
    "    \n",
    "    \n",
    "interact(define_query,_top= top_widget,_section=category_widget,_freetext=freetext_widget,_endpoint=endpoint_widget)"
   ]
  },
  {
   "cell_type": "markdown",
   "metadata": {},
   "source": [
    "#### Setup the query"
   ]
  },
  {
   "cell_type": "code",
   "execution_count": 6,
   "metadata": {},
   "outputs": [
    {
     "name": "stderr",
     "output_type": "stream",
     "text": [
      "2019-12-15 10:26:25,874  INFO     P-CHEM\tZETA_POTENTIAL_SECTION\tNM220,NM101\t*\n",
      "2019-12-15 10:26:25,874  INFO     {'q': '{!parent which=type_s:substance}(NM220,NM101)', 'fq': None, 'wt': 'json', 'fl': 'dbtag_hss,name_hs,publicname_hs,substanceType_hs,owner_name_hs,s_uuid_hs,[child parentFilter=filter(type_s:substance) childFilter=\"filter(type_s:study AND     topcategory_s:P-CHEM AND endpointcategory_s:ZETA_POTENTIAL_SECTION AND  effectendpoint_s: *)  OR filter(type_s:params AND     topcategory_s:P-CHEM AND endpointcategory_s:ZETA_POTENTIAL_SECTION)  OR filter(type_s:conditions AND     topcategory_s:P-CHEM AND endpointcategory_s:ZETA_POTENTIAL_SECTION) \" limit=10000]', 'json.facet': '', 'rows': 10}\n"
     ]
    }
   ],
   "source": [
    "top = top_widget.value\n",
    "section = category_widget.value\n",
    "materialfilter=freetext_widget.value\n",
    "endpoint=endpoint_widget.value\n",
    "if \"\" == materialfilter:\n",
    "    materialfilter=None\n",
    "logger.info('{}\\t{}\\t{}\\t{}'.format(top,section,materialfilter,endpoint))\n",
    "\n",
    "docs_query = client_solr.StudyDocuments()\n",
    "docs_query.settings['endpointfilter'] = ' effectendpoint_s: {}'.format(endpoint)\n",
    "docs_query.settings['query_guidance'] = None\n",
    "docs_query.settings['query_organism'] = None\n",
    "docs_query.settings['fields'] = None\n",
    "docs_query.setStudyFilter({' topcategory_s': top, 'endpointcategory_s':section}) \n",
    "                    \n",
    "query = docs_query.getQuery(textfilter=materialfilter,facets=None,fq=None, rows=10, _params=True, _conditions=True, _composition=False );\n",
    "logger.info(query)"
   ]
  },
  {
   "cell_type": "markdown",
   "metadata": {},
   "source": [
    "### Run the query"
   ]
  },
  {
   "cell_type": "code",
   "execution_count": 7,
   "metadata": {},
   "outputs": [
    {
     "name": "stderr",
     "output_type": "stream",
     "text": [
      "2019-12-15 10:26:31,982  INFO     200\n",
      "2019-12-15 10:26:31,984  INFO     {\n",
      "  \"dbtag_hss\": [\n",
      "    \"NNRG\"\n",
      "  ],\n",
      "  \"name_hs\": \"NM-100 (TiO2 50-150 nm)\",\n",
      "  \"publicname_hs\": \"JRCNM01000a\",\n",
      "  \"owner_name_hs\": \"NANoREG\",\n",
      "  \"substanceType_hs\": \"NPO_1486\",\n",
      "  \"s_uuid_hs\": \"NNRG-18280a4a-45e9-adc0-df3b-125397b1255f\"\n",
      "}\n"
     ]
    }
   ],
   "source": [
    "r = client_solr.get(service_uri,query=query,auth=auth_object)\n",
    "logger.info(r.status_code)\n",
    "docs=r.json()['response']['docs']\n",
    "#print(docs)\n",
    "rows = docs_query.parse(docs)\n",
    "\n"
   ]
  },
  {
   "cell_type": "code",
   "execution_count": null,
   "metadata": {},
   "outputs": [],
   "source": [
    "#print(\"Substances: {}\".format(len(rows)))\n",
    "results = pd.DataFrame(rows)\n",
    "results.to_csv(section+\".nosmiles.txt\",sep='\\t',index=False)\n",
    "#df.head()\n",
    "results.head()"
   ]
  },
  {
   "cell_type": "code",
   "execution_count": null,
   "metadata": {},
   "outputs": [],
   "source": [
    "results.columns"
   ]
  },
  {
   "cell_type": "code",
   "execution_count": null,
   "metadata": {},
   "outputs": [],
   "source": [
    "import numpy as np\n",
    "def highlight_max(s):\n",
    "    is_max = s == s.max()\n",
    "    return ['background-color: red' if v else '' for v in is_max]\n",
    "\n",
    "for criteria in [\"value.range.lo\"]:\n",
    "    tmp = pd.pivot_table(results, values=criteria, index=['m.public.name'], columns=['p.oht.module','p.oht.section','p.guidance','value.endpoint','value.endpoint_type','value.range.lo.qualifier','value.unit'], aggfunc=np.mean).reset_index()\n",
    "    #tmp.style.highlight_null(null_color='red')\n",
    "    \n",
    "    #display(tmp.style.apply(highlight_max,subset=top_sections))\n",
    "    display(tmp.style.apply(highlight_max))"
   ]
  },
  {
   "cell_type": "code",
   "execution_count": null,
   "metadata": {},
   "outputs": [],
   "source": [
    "tmp=results.groupby(by=[\"m.public.name\",\"p.guidance\",\"value.endpoint\",\"value.endpoint_type\",\"value.range.lo.qualifier\",\"value.unit\"]).agg({\"value.range.lo\" : [\"min\",\"max\",\"mean\",\"std\",\"count\"]}).reset_index()\n",
    "tmp.columns = [\"_\".join(x) for x in tmp.columns.ravel()]\n",
    "print(\"Substances {}\".format(tmp.shape[0]))\n",
    "display(tmp)\n"
   ]
  },
  {
   "cell_type": "code",
   "execution_count": null,
   "metadata": {},
   "outputs": [],
   "source": [
    "."
   ]
  }
 ],
 "metadata": {
  "kernelspec": {
   "display_name": "Python 3",
   "language": "python",
   "name": "python3"
  },
  "language_info": {
   "codemirror_mode": {
    "name": "ipython",
    "version": 3
   },
   "file_extension": ".py",
   "mimetype": "text/x-python",
   "name": "python",
   "nbconvert_exporter": "python",
   "pygments_lexer": "ipython3",
   "version": "3.7.3"
  },
  "toc": {
   "base_numbering": 1,
   "nav_menu": {},
   "number_sections": false,
   "sideBar": false,
   "skip_h1_title": false,
   "title_cell": "Table of Contents",
   "title_sidebar": "Contents",
   "toc_cell": false,
   "toc_position": {},
   "toc_section_display": false,
   "toc_window_display": false
  }
 },
 "nbformat": 4,
 "nbformat_minor": 2
}
