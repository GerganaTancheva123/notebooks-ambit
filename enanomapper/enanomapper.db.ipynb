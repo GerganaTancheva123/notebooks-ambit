{
 "cells": [
  {
   "cell_type": "markdown",
   "metadata": {},
   "source": [
    "# Retrieve data from eNanomapper database\n",
    "https://search.data.enanomapper.net/\n",
    "\n",
    "- This notebook uses Apache Solr API and AMBIT REST API  (see Swagger interactive documentation at http://enanomapper.github.io/API/ )"
   ]
  },
  {
   "cell_type": "code",
   "execution_count": 1,
   "metadata": {},
   "outputs": [],
   "source": [
    "import pandas as pd\n",
    "import os.path\n",
    "import numpy as np\n",
    "import datetime, time\n",
    "import urllib3\n",
    "import json\n",
    "import sys\n",
    "import ipywidgets as widgets\n",
    "\n",
    "import logging\n",
    "from logging.config import fileConfig\n",
    "fileConfig('logging_endpoints_config.ini')\n",
    "\n",
    "global logger\n",
    "logger = logging.getLogger()\n",
    "\n",
    "%run units.py\n",
    "\n",
    "logger.debug('Started at %s \\t%s',os.name, datetime.datetime.now())\n",
    "\n",
    "urllib3.disable_warnings()"
   ]
  },
  {
   "cell_type": "code",
   "execution_count": 2,
   "metadata": {},
   "outputs": [],
   "source": [
    "%run solrapi.py"
   ]
  },
  {
   "cell_type": "code",
   "execution_count": 3,
   "metadata": {},
   "outputs": [],
   "source": [
    "%run enmapi.py"
   ]
  },
  {
   "cell_type": "code",
   "execution_count": 4,
   "metadata": {},
   "outputs": [],
   "source": [
    "http_pool=urllib3.PoolManager()"
   ]
  },
  {
   "cell_type": "markdown",
   "metadata": {},
   "source": [
    "### Retrieve endpoints using AMBIT REST API"
   ]
  },
  {
   "cell_type": "code",
   "execution_count": 5,
   "metadata": {},
   "outputs": [
    {
     "name": "stderr",
     "output_type": "stream",
     "text": [
      "2019-03-23 13:11:29,130  INFO     Sending query to https://apps.ideaconsult.net/nanoreg1/query/study\n"
     ]
    },
    {
     "name": "stdout",
     "output_type": "stream",
     "text": [
      "https://apps.ideaconsult.net/nanoreg1\n"
     ]
    },
    {
     "name": "stderr",
     "output_type": "stream",
     "text": [
      "2019-03-23 13:11:29,306  INFO     Received response \n"
     ]
    }
   ],
   "source": [
    "ambit=AMBITQuery(key=\"study\")\n",
    "print(ambit.root)\n",
    "data = ambit.get(http_pool)\n"
   ]
  },
  {
   "cell_type": "code",
   "execution_count": 6,
   "metadata": {},
   "outputs": [
    {
     "data": {
      "application/vnd.jupyter.widget-view+json": {
       "model_id": "08ea464852644b61b862ba36dd870044",
       "version_major": 2,
       "version_minor": 0
      },
      "text/plain": [
       "Dropdown(description='Select:', options=('ECOTOX', 'P-CHEM', 'TOX'), value='ECOTOX')"
      ]
     },
     "metadata": {},
     "output_type": "display_data"
    }
   ],
   "source": [
    "#Select endpoint\n",
    "_sections={}\n",
    "\n",
    "top_sections = []\n",
    "for facet in data['facet']:\n",
    "    #print(\"{}\\t{}\\t{}\\t{}\".format(facet['subcategory'],facet['endpoint'],facet['count'],facet['value']))\n",
    "    top = facet['subcategory']\n",
    "    if not top in top_sections:\n",
    "        top_sections.append(top)\n",
    "        \n",
    "    if not top in _sections:\n",
    "        _sections[top] = []\n",
    "    \n",
    "    _sections[top].append(facet['endpoint'])\n",
    "\n",
    "top_widget = widgets.Dropdown(\n",
    "    options=top_sections,\n",
    "    value=top_sections[0],\n",
    "    description='Select:',\n",
    "    disabled=False,\n",
    ")\n",
    "display(top_widget)\n"
   ]
  },
  {
   "cell_type": "code",
   "execution_count": 7,
   "metadata": {},
   "outputs": [
    {
     "data": {
      "application/vnd.jupyter.widget-view+json": {
       "model_id": "9b502cb66fbe4608a2e70197c99b34f1",
       "version_major": 2,
       "version_minor": 0
      },
      "text/plain": [
       "Dropdown(description='Endpoint:', index=1, options=('EC_ALGAETOX_SECTION', 'EC_DAPHNIATOX_SECTION', 'EC_SOILDW…"
      ]
     },
     "metadata": {},
     "output_type": "display_data"
    }
   ],
   "source": [
    "top=top_widget.value\n",
    "category_widget = widgets.Dropdown(\n",
    "    options=_sections[top],\n",
    "    value=_sections[top][1],\n",
    "    description='Endpoint:',\n",
    "    disabled=False,\n",
    ")\n",
    "display(category_widget)"
   ]
  },
  {
   "cell_type": "markdown",
   "metadata": {},
   "source": [
    "#### Setup the query"
   ]
  },
  {
   "cell_type": "code",
   "execution_count": 8,
   "metadata": {},
   "outputs": [
    {
     "data": {
      "application/vnd.jupyter.widget-view+json": {
       "model_id": "9f644fdeea7449468cb9a75a6f70e0e7",
       "version_major": 2,
       "version_minor": 0
      },
      "text/plain": [
       "Text(value='NM220,NM101', description='Search')"
      ]
     },
     "metadata": {},
     "output_type": "display_data"
    }
   ],
   "source": [
    "freetext_widget=widgets.Text(\n",
    "    value='NM220,NM101',\n",
    "    description='Search',\n",
    "    disabled=False\n",
    ")\n",
    "freetext_widget"
   ]
  },
  {
   "cell_type": "code",
   "execution_count": 9,
   "metadata": {},
   "outputs": [
    {
     "name": "stderr",
     "output_type": "stream",
     "text": [
      "2019-03-23 13:11:42,164  INFO     {'endpointfilter': ' effectendpoint_s: *', 'studyfilter': ' topcategory_s:(ECOTOX) AND endpointcategory_s:(EC_DAPHNIATOX_SECTION)', 'query_guidance': None, 'query_organism': None, 'fields': None}\n",
      "2019-03-23 13:11:42,165  INFO     Free text query: NM220,NM101\n"
     ]
    }
   ],
   "source": [
    "materialfilter=freetext_widget.value\n",
    "if \"\" == materialfilter:\n",
    "    materialfilter=None\n",
    "    \n",
    "section=category_widget.value\n",
    "fields=None\n",
    "if section in _fields:\n",
    "    fields=_fields[section]\n",
    "\n",
    "endpoint=\"*\"\n",
    "if section in _endpoint:\n",
    "    endpoint=_endpoint[section]\n",
    "    \n",
    "settings = {'endpointfilter': ' effectendpoint_s: {}'.format(endpoint),\n",
    "            'studyfilter': ' topcategory_s:({}) AND endpointcategory_s:({})'.format(top,section),            \n",
    "            'query_guidance': None, \n",
    "            'query_organism': None,\n",
    "            'fields' : fields\n",
    "           }\n",
    "    \n",
    "logger.info(settings)  \n",
    "logger.info(\"Free text query: {}\".format(materialfilter))"
   ]
  },
  {
   "cell_type": "markdown",
   "metadata": {},
   "source": [
    "### Run the query"
   ]
  },
  {
   "cell_type": "code",
   "execution_count": 10,
   "metadata": {},
   "outputs": [
    {
     "data": {
      "application/vnd.jupyter.widget-view+json": {
       "model_id": "a808b39262b245e195187665694e4e21",
       "version_major": 2,
       "version_minor": 0
      },
      "text/plain": [
       "Dropdown(description='Service:', options=('nanoreg1', 'enm'), value='nanoreg1')"
      ]
     },
     "metadata": {},
     "output_type": "display_data"
    },
    {
     "data": {
      "application/vnd.jupyter.widget-view+json": {
       "model_id": "5e8aa90b413f4fe8b25bbcf92b0bc8b6",
       "version_major": 2,
       "version_minor": 0
      },
      "text/plain": [
       "Text(value='', description='User name:', placeholder='')"
      ]
     },
     "metadata": {},
     "output_type": "display_data"
    },
    {
     "data": {
      "application/vnd.jupyter.widget-view+json": {
       "model_id": "205e3411991d4476943543cfb07907c7",
       "version_major": 2,
       "version_minor": 0
      },
      "text/plain": [
       "Password(description='Password:', placeholder='')"
      ]
     },
     "metadata": {},
     "output_type": "display_data"
    }
   ],
   "source": [
    "\n",
    "try:\n",
    "    with open('./config.solr.json') as f:\n",
    "        solr_services = json.load(f)\n",
    "except:        \n",
    "    solr_services = None\n",
    "    logger.error(\"Something went wrong\")\n",
    "\n",
    "service_widget = widgets.Dropdown(\n",
    "    options=solr_services.keys(),\n",
    "    description='Service:',\n",
    "    disabled=False,\n",
    ")\n",
    "display(service_widget)\n",
    "\n",
    "name_widget=widgets.Text(\n",
    "    placeholder='',\n",
    "    description='User name:',\n",
    "    disabled=False\n",
    ")\n",
    "password_widget = widgets.Password(description='Password:', placeholder='')\n",
    "display(name_widget)\n",
    "password_widget"
   ]
  },
  {
   "cell_type": "code",
   "execution_count": 11,
   "metadata": {},
   "outputs": [
    {
     "name": "stderr",
     "output_type": "stream",
     "text": [
      "2019-03-23 13:11:52,659  INFO     {'url': 'https://solr.ideaconsult.net/solr/nanoreg_shard1_replica1/select', 'fl': 'name_hs,publicname_hs,substanceType_hs,s_uuid_hs,[child parentFilter=filter(type_s:substance) childFilter=\"filter(type_s:study AND  topcategory_s:(ECOTOX) AND endpointcategory_s:(EC_DAPHNIATOX_SECTION) AND  effectendpoint_s: *)  OR filter(type_s:params AND  topcategory_s:(ECOTOX) AND endpointcategory_s:(EC_DAPHNIATOX_SECTION))  OR filter(type_s:conditions AND  topcategory_s:(ECOTOX) AND endpointcategory_s:(EC_DAPHNIATOX_SECTION)) OR filter(type_s:composition AND component_s:CONSTITUENT)\" limit=10000]', 'fq': '', 'q': '{!parent which=type_s:substance}'}\n",
      "2019-03-23 13:11:52,661  INFO     Sending query to https://solr.ideaconsult.net/solr/nanoreg_shard1_replica1/select\n",
      "2019-03-23 13:11:52,845  INFO     {\n",
      "  \"name_hs\": \"NM-100 (TiO2 50-150 nm)\",\n",
      "  \"publicname_hs\": \"JRCNM01000a\",\n",
      "  \"substanceType_hs\": \"NPO_1486\",\n",
      "  \"s_uuid_hs\": \"NNRG-18280a4a-45e9-adc0-df3b-125397b1255f\"\n",
      "}\n"
     ]
    }
   ],
   "source": [
    "query=getSolrQuery(settings,url=solr_services[service_widget.value])\n",
    "rows = []  \n",
    "\n",
    "#logger.info(settings)\n",
    "logger.info(query)\n",
    "rows = sendSolrRequest(settings=settings,http=http_pool,textfilter=materialfilter,query=query,rows=rows,basic_auth=\"{}:{}\".format(name_widget.value,password_widget.value))"
   ]
  },
  {
   "cell_type": "code",
   "execution_count": 12,
   "metadata": {},
   "outputs": [
    {
     "data": {
      "application/vnd.jupyter.widget-view+json": {
       "model_id": "e927cd90d4e646d39e771f8eb16021eb",
       "version_major": 2,
       "version_minor": 0
      }
     },
     "metadata": {},
     "output_type": "display_data"
    }
   ],
   "source": [
    "#print(\"Substances: {}\".format(len(rows)))\n",
    "df = pd.DataFrame(rows)\n",
    "df.to_csv(section+\".nosmiles.txt\",sep='\\t',index=False)\n",
    "#df.head()\n",
    "df.head()"
   ]
  },
  {
   "cell_type": "code",
   "execution_count": 13,
   "metadata": {},
   "outputs": [
    {
     "data": {
      "text/html": [
       "<style  type=\"text/css\" >\n",
       "    #T_7865d4e4_4d5c_11e9_bd26_80ee7350bfa7row0_col5 {\n",
       "            background-color:  red;\n",
       "        }    #T_7865d4e4_4d5c_11e9_bd26_80ee7350bfa7row0_col6 {\n",
       "            background-color:  red;\n",
       "        }    #T_7865d4e4_4d5c_11e9_bd26_80ee7350bfa7row0_col11 {\n",
       "            background-color:  red;\n",
       "        }    #T_7865d4e4_4d5c_11e9_bd26_80ee7350bfa7row0_col12 {\n",
       "            background-color:  red;\n",
       "        }    #T_7865d4e4_4d5c_11e9_bd26_80ee7350bfa7row0_col13 {\n",
       "            background-color:  red;\n",
       "        }    #T_7865d4e4_4d5c_11e9_bd26_80ee7350bfa7row0_col14 {\n",
       "            background-color:  red;\n",
       "        }    #T_7865d4e4_4d5c_11e9_bd26_80ee7350bfa7row1_col1 {\n",
       "            background-color:  red;\n",
       "        }    #T_7865d4e4_4d5c_11e9_bd26_80ee7350bfa7row1_col2 {\n",
       "            background-color:  red;\n",
       "        }    #T_7865d4e4_4d5c_11e9_bd26_80ee7350bfa7row1_col3 {\n",
       "            background-color:  red;\n",
       "        }    #T_7865d4e4_4d5c_11e9_bd26_80ee7350bfa7row1_col4 {\n",
       "            background-color:  red;\n",
       "        }    #T_7865d4e4_4d5c_11e9_bd26_80ee7350bfa7row1_col7 {\n",
       "            background-color:  red;\n",
       "        }    #T_7865d4e4_4d5c_11e9_bd26_80ee7350bfa7row1_col8 {\n",
       "            background-color:  red;\n",
       "        }    #T_7865d4e4_4d5c_11e9_bd26_80ee7350bfa7row1_col9 {\n",
       "            background-color:  red;\n",
       "        }    #T_7865d4e4_4d5c_11e9_bd26_80ee7350bfa7row1_col10 {\n",
       "            background-color:  red;\n",
       "        }    #T_7865d4e4_4d5c_11e9_bd26_80ee7350bfa7row1_col11 {\n",
       "            background-color:  red;\n",
       "        }    #T_7865d4e4_4d5c_11e9_bd26_80ee7350bfa7row1_col13 {\n",
       "            background-color:  red;\n",
       "        }</style>  \n",
       "<table id=\"T_7865d4e4_4d5c_11e9_bd26_80ee7350bfa7\" > \n",
       "<thead>    <tr> \n",
       "        <th class=\"index_name level0\" >x.oht.top</th> \n",
       "        <th class=\"col_heading level0 col0\" >public.name</th> \n",
       "        <th class=\"col_heading level0 col1\" colspan=14>ECOTOX</th> \n",
       "    </tr>    <tr> \n",
       "        <th class=\"index_name level1\" >x.oht.section</th> \n",
       "        <th class=\"col_heading level1 col0\" ></th> \n",
       "        <th class=\"col_heading level1 col1\" colspan=14>EC_DAPHNIATOX_SECTION</th> \n",
       "    </tr>    <tr> \n",
       "        <th class=\"index_name level2\" >x.guidance</th> \n",
       "        <th class=\"col_heading level2 col0\" ></th> \n",
       "        <th class=\"col_heading level2 col1\" colspan=4>SOP-TOXICITY TEST WITH DAPHNIA MAGNA (WITHOUT NOM)</th> \n",
       "        <th class=\"col_heading level2 col5\" colspan=2>SOP-TOXICITY TEST WITH MICROALGAE P.SUBCAPITATA (WITH NOM)</th> \n",
       "        <th class=\"col_heading level2 col7\" colspan=4>SOP-TOXICITY TEST WITH MICROALGAE P.SUBCAPITATA (WITHOUT NOM)</th> \n",
       "        <th class=\"col_heading level2 col11\" colspan=4>SOP-TOXICITY TEST WITH MICROALGAE P.SUBCAPITATA WITH NOM</th> \n",
       "    </tr>    <tr> \n",
       "        <th class=\"index_name level3\" >value.endpoint</th> \n",
       "        <th class=\"col_heading level3 col0\" ></th> \n",
       "        <th class=\"col_heading level3 col1\" >L.L. (LOWER LIMIT)</th> \n",
       "        <th class=\"col_heading level3 col2\" >LC20</th> \n",
       "        <th class=\"col_heading level3 col3\" >LC50</th> \n",
       "        <th class=\"col_heading level3 col4\" >U.L. (UPPER LIMIT)</th> \n",
       "        <th class=\"col_heading level3 col5\" >EC10</th> \n",
       "        <th class=\"col_heading level3 col6\" >EC50</th> \n",
       "        <th class=\"col_heading level3 col7\" >L.L. (LOWER LIMIT)</th> \n",
       "        <th class=\"col_heading level3 col8\" >LC10</th> \n",
       "        <th class=\"col_heading level3 col9\" >LC50</th> \n",
       "        <th class=\"col_heading level3 col10\" >U.L. (UPPER LIMIT)</th> \n",
       "        <th class=\"col_heading level3 col11\" >EC20 (48H)</th> \n",
       "        <th class=\"col_heading level3 col12\" >EC20 (72H)</th> \n",
       "        <th class=\"col_heading level3 col13\" >EC50 (48H)</th> \n",
       "        <th class=\"col_heading level3 col14\" >EC50 (72H)</th> \n",
       "    </tr>    <tr> \n",
       "        <th class=\"index_name level4\" >value.endpoint_type</th> \n",
       "        <th class=\"col_heading level4 col0\" ></th> \n",
       "        <th class=\"col_heading level4 col1\" >DOSERESPONSE</th> \n",
       "        <th class=\"col_heading level4 col2\" >DOSERESPONSE</th> \n",
       "        <th class=\"col_heading level4 col3\" >DOSERESPONSE</th> \n",
       "        <th class=\"col_heading level4 col4\" >DOSERESPONSE</th> \n",
       "        <th class=\"col_heading level4 col5\" >DOSERESPONSE</th> \n",
       "        <th class=\"col_heading level4 col6\" >DOSERESPONSE</th> \n",
       "        <th class=\"col_heading level4 col7\" >DOSERESPONSE</th> \n",
       "        <th class=\"col_heading level4 col8\" >DOSERESPONSE</th> \n",
       "        <th class=\"col_heading level4 col9\" >DOSERESPONSE</th> \n",
       "        <th class=\"col_heading level4 col10\" >DOSERESPONSE</th> \n",
       "        <th class=\"col_heading level4 col11\" >DOSERESPONSE</th> \n",
       "        <th class=\"col_heading level4 col12\" >DOSERESPONSE</th> \n",
       "        <th class=\"col_heading level4 col13\" >DOSERESPONSE</th> \n",
       "        <th class=\"col_heading level4 col14\" >DOSERESPONSE</th> \n",
       "    </tr>    <tr> \n",
       "        <th class=\"index_name level5\" >value.qualifier.lo</th> \n",
       "        <th class=\"col_heading level5 col0\" ></th> \n",
       "        <th class=\"col_heading level5 col1\" ></th> \n",
       "        <th class=\"col_heading level5 col2\" ></th> \n",
       "        <th class=\"col_heading level5 col3\" ></th> \n",
       "        <th class=\"col_heading level5 col4\" ></th> \n",
       "        <th class=\"col_heading level5 col5\" ></th> \n",
       "        <th class=\"col_heading level5 col6\" ></th> \n",
       "        <th class=\"col_heading level5 col7\" ></th> \n",
       "        <th class=\"col_heading level5 col8\" ></th> \n",
       "        <th class=\"col_heading level5 col9\" ></th> \n",
       "        <th class=\"col_heading level5 col10\" ></th> \n",
       "        <th class=\"col_heading level5 col11\" ></th> \n",
       "        <th class=\"col_heading level5 col12\" ></th> \n",
       "        <th class=\"col_heading level5 col13\" ></th> \n",
       "        <th class=\"col_heading level5 col14\" ></th> \n",
       "    </tr>    <tr> \n",
       "        <th class=\"index_name level6\" >value.unit</th> \n",
       "        <th class=\"col_heading level6 col0\" ></th> \n",
       "        <th class=\"col_heading level6 col1\" >mg/l</th> \n",
       "        <th class=\"col_heading level6 col2\" ></th> \n",
       "        <th class=\"col_heading level6 col3\" ></th> \n",
       "        <th class=\"col_heading level6 col4\" >mg/l</th> \n",
       "        <th class=\"col_heading level6 col5\" >mg/l</th> \n",
       "        <th class=\"col_heading level6 col6\" >mg/l</th> \n",
       "        <th class=\"col_heading level6 col7\" >mg/l</th> \n",
       "        <th class=\"col_heading level6 col8\" ></th> \n",
       "        <th class=\"col_heading level6 col9\" ></th> \n",
       "        <th class=\"col_heading level6 col10\" >mg/l</th> \n",
       "        <th class=\"col_heading level6 col11\" >mg/l</th> \n",
       "        <th class=\"col_heading level6 col12\" >mg/l</th> \n",
       "        <th class=\"col_heading level6 col13\" >mg/l</th> \n",
       "        <th class=\"col_heading level6 col14\" >mg/l</th> \n",
       "    </tr></thead> \n",
       "<tbody>    <tr> \n",
       "        <th id=\"T_7865d4e4_4d5c_11e9_bd26_80ee7350bfa7level0_row0\" class=\"row_heading level0 row0\" >0</th> \n",
       "        <td id=\"T_7865d4e4_4d5c_11e9_bd26_80ee7350bfa7row0_col0\" class=\"data row0 col0\" >JRCNM01000a</td> \n",
       "        <td id=\"T_7865d4e4_4d5c_11e9_bd26_80ee7350bfa7row0_col1\" class=\"data row0 col1\" >nan</td> \n",
       "        <td id=\"T_7865d4e4_4d5c_11e9_bd26_80ee7350bfa7row0_col2\" class=\"data row0 col2\" >nan</td> \n",
       "        <td id=\"T_7865d4e4_4d5c_11e9_bd26_80ee7350bfa7row0_col3\" class=\"data row0 col3\" >nan</td> \n",
       "        <td id=\"T_7865d4e4_4d5c_11e9_bd26_80ee7350bfa7row0_col4\" class=\"data row0 col4\" >nan</td> \n",
       "        <td id=\"T_7865d4e4_4d5c_11e9_bd26_80ee7350bfa7row0_col5\" class=\"data row0 col5\" >0.867</td> \n",
       "        <td id=\"T_7865d4e4_4d5c_11e9_bd26_80ee7350bfa7row0_col6\" class=\"data row0 col6\" >661.7</td> \n",
       "        <td id=\"T_7865d4e4_4d5c_11e9_bd26_80ee7350bfa7row0_col7\" class=\"data row0 col7\" >nan</td> \n",
       "        <td id=\"T_7865d4e4_4d5c_11e9_bd26_80ee7350bfa7row0_col8\" class=\"data row0 col8\" >nan</td> \n",
       "        <td id=\"T_7865d4e4_4d5c_11e9_bd26_80ee7350bfa7row0_col9\" class=\"data row0 col9\" >nan</td> \n",
       "        <td id=\"T_7865d4e4_4d5c_11e9_bd26_80ee7350bfa7row0_col10\" class=\"data row0 col10\" >nan</td> \n",
       "        <td id=\"T_7865d4e4_4d5c_11e9_bd26_80ee7350bfa7row0_col11\" class=\"data row0 col11\" >100</td> \n",
       "        <td id=\"T_7865d4e4_4d5c_11e9_bd26_80ee7350bfa7row0_col12\" class=\"data row0 col12\" >100</td> \n",
       "        <td id=\"T_7865d4e4_4d5c_11e9_bd26_80ee7350bfa7row0_col13\" class=\"data row0 col13\" >100</td> \n",
       "        <td id=\"T_7865d4e4_4d5c_11e9_bd26_80ee7350bfa7row0_col14\" class=\"data row0 col14\" >100</td> \n",
       "    </tr>    <tr> \n",
       "        <th id=\"T_7865d4e4_4d5c_11e9_bd26_80ee7350bfa7level0_row1\" class=\"row_heading level0 row1\" >1</th> \n",
       "        <td id=\"T_7865d4e4_4d5c_11e9_bd26_80ee7350bfa7row1_col0\" class=\"data row1 col0\" >JRCNM01001a</td> \n",
       "        <td id=\"T_7865d4e4_4d5c_11e9_bd26_80ee7350bfa7row1_col1\" class=\"data row1 col1\" >60.82</td> \n",
       "        <td id=\"T_7865d4e4_4d5c_11e9_bd26_80ee7350bfa7row1_col2\" class=\"data row1 col2\" >61.2</td> \n",
       "        <td id=\"T_7865d4e4_4d5c_11e9_bd26_80ee7350bfa7row1_col3\" class=\"data row1 col3\" >131.14</td> \n",
       "        <td id=\"T_7865d4e4_4d5c_11e9_bd26_80ee7350bfa7row1_col4\" class=\"data row1 col4\" >193.75</td> \n",
       "        <td id=\"T_7865d4e4_4d5c_11e9_bd26_80ee7350bfa7row1_col5\" class=\"data row1 col5\" >0.093</td> \n",
       "        <td id=\"T_7865d4e4_4d5c_11e9_bd26_80ee7350bfa7row1_col6\" class=\"data row1 col6\" >43.09</td> \n",
       "        <td id=\"T_7865d4e4_4d5c_11e9_bd26_80ee7350bfa7row1_col7\" class=\"data row1 col7\" >10.36</td> \n",
       "        <td id=\"T_7865d4e4_4d5c_11e9_bd26_80ee7350bfa7row1_col8\" class=\"data row1 col8\" >4.38</td> \n",
       "        <td id=\"T_7865d4e4_4d5c_11e9_bd26_80ee7350bfa7row1_col9\" class=\"data row1 col9\" >50.57</td> \n",
       "        <td id=\"T_7865d4e4_4d5c_11e9_bd26_80ee7350bfa7row1_col10\" class=\"data row1 col10\" >72.955</td> \n",
       "        <td id=\"T_7865d4e4_4d5c_11e9_bd26_80ee7350bfa7row1_col11\" class=\"data row1 col11\" >100</td> \n",
       "        <td id=\"T_7865d4e4_4d5c_11e9_bd26_80ee7350bfa7row1_col12\" class=\"data row1 col12\" >3.95</td> \n",
       "        <td id=\"T_7865d4e4_4d5c_11e9_bd26_80ee7350bfa7row1_col13\" class=\"data row1 col13\" >100</td> \n",
       "        <td id=\"T_7865d4e4_4d5c_11e9_bd26_80ee7350bfa7row1_col14\" class=\"data row1 col14\" >20.41</td> \n",
       "    </tr></tbody> \n",
       "</table> "
      ],
      "text/plain": [
       "<pandas.io.formats.style.Styler at 0x8f36780>"
      ]
     },
     "metadata": {},
     "output_type": "display_data"
    }
   ],
   "source": [
    "import numpy as np\n",
    "def highlight_max(s):\n",
    "    is_max = s == s.max()\n",
    "    return ['background-color: red' if v else '' for v in is_max]\n",
    "\n",
    "for criteria in [\"value.lo\"]:\n",
    "    tmp = pd.pivot_table(df, values=criteria, index=['public.name'], columns=['x.oht.top','x.oht.section','x.guidance','value.endpoint','value.endpoint_type','value.qualifier.lo','value.unit'], aggfunc=np.mean).reset_index()\n",
    "    #tmp.style.highlight_null(null_color='red')\n",
    "    \n",
    "    display(tmp.style.apply(highlight_max,subset=top_sections))"
   ]
  },
  {
   "cell_type": "code",
   "execution_count": 14,
   "metadata": {},
   "outputs": [
    {
     "name": "stdout",
     "output_type": "stream",
     "text": [
      "Substances 20\n"
     ]
    },
    {
     "data": {
      "application/vnd.jupyter.widget-view+json": {
       "model_id": "8b72a2c2d29c451eaea7afb753cda2e0",
       "version_major": 2,
       "version_minor": 0
      }
     },
     "metadata": {},
     "output_type": "display_data"
    }
   ],
   "source": [
    "tmp=df.groupby(by=[\"public.name\",\"x.guidance\",\"value.endpoint\",\"value.endpoint_type\",\"value.qualifier.lo\",\"value.unit\"]).agg({\"value.lo\" : [\"min\",\"max\",\"mean\",\"std\",\"count\"]}).reset_index()\n",
    "tmp.columns = [\"_\".join(x) for x in tmp.columns.ravel()]\n",
    "print(\"Substances {}\".format(tmp.shape[0]))\n",
    "display(tmp)\n"
   ]
  },
  {
   "cell_type": "code",
   "execution_count": null,
   "metadata": {},
   "outputs": [],
   "source": []
  },
  {
   "cell_type": "code",
   "execution_count": null,
   "metadata": {},
   "outputs": [],
   "source": []
  },
  {
   "cell_type": "code",
   "execution_count": null,
   "metadata": {},
   "outputs": [],
   "source": []
  }
 ],
 "metadata": {
  "kernelspec": {
   "display_name": "Python 3",
   "language": "python",
   "name": "python3"
  },
  "language_info": {
   "codemirror_mode": {
    "name": "ipython",
    "version": 3
   },
   "file_extension": ".py",
   "mimetype": "text/x-python",
   "name": "python",
   "nbconvert_exporter": "python",
   "pygments_lexer": "ipython3",
   "version": "3.6.6"
  },
  "toc": {
   "base_numbering": 1,
   "nav_menu": {},
   "number_sections": false,
   "sideBar": false,
   "skip_h1_title": false,
   "title_cell": "Table of Contents",
   "title_sidebar": "Contents",
   "toc_cell": false,
   "toc_position": {},
   "toc_section_display": false,
   "toc_window_display": false
  }
 },
 "nbformat": 4,
 "nbformat_minor": 2
}
