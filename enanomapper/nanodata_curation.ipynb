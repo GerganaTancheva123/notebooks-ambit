{
 "cells": [
  {
   "cell_type": "markdown",
   "metadata": {},
   "source": [
    "# Nanosafety data query"
   ]
  },
  {
   "cell_type": "code",
   "execution_count": 15,
   "metadata": {},
   "outputs": [
    {
     "data": {
      "application/vnd.jupyter.widget-view+json": {
       "model_id": "bd629ee3c06e44748748f771836c7352",
       "version_major": 2,
       "version_minor": 0
      },
      "text/plain": [
       "Dropdown(description='Service:', options=('NANoREG', 'eNanoMapper', 'NanoReg2', 'caLIBRAte', 'GRACIOUS', 'PATR…"
      ]
     },
     "metadata": {},
     "output_type": "display_data"
    },
    {
     "data": {
      "application/vnd.jupyter.widget-view+json": {
       "model_id": "c46060ed3a654fc0a8b93ab700e6d865",
       "version_major": 2,
       "version_minor": 0
      },
      "text/plain": [
       "Text(value='', description='API key', placeholder='')"
      ]
     },
     "metadata": {},
     "output_type": "display_data"
    }
   ],
   "source": [
    "# Setup\n",
    "import ipywidgets as widgets\n",
    "import json\n",
    "import os,datetime\n",
    "\n",
    "import logging\n",
    "from logging.config import fileConfig\n",
    "fileConfig('logging_endpoints_config.ini')\n",
    "global logger\n",
    "logger = logging.getLogger()\n",
    "logger.debug('Started at %s \\t%s',os.name, datetime.datetime.now())\n",
    "\n",
    "try:\n",
    "    with open('./config.solr.json') as f:\n",
    "        config = json.load(f)\n",
    "    solr_services=config[\"services\"]    \n",
    "    solr_query=config[\"query\"]   \n",
    "except Exception as err:        \n",
    "    config = None\n",
    "    logger.error(\"Something went wrong\",err)\n",
    "\n",
    "service_widget = widgets.Dropdown(\n",
    "    options=solr_services.keys(),\n",
    "    description='Service:',\n",
    "    disabled=False,\n",
    ")\n",
    "display(service_widget)\n",
    "\n",
    "apikey_widget=widgets.Text(\n",
    "    placeholder='',\n",
    "    description='API key',\n",
    "    disabled=False\n",
    ")\n",
    "display(apikey_widget)\n"
   ]
  },
  {
   "cell_type": "code",
   "execution_count": 16,
   "metadata": {},
   "outputs": [
    {
     "data": {
      "application/vnd.jupyter.widget-view+json": {
       "model_id": "1071b6ff76db42dfbb031622caa44696",
       "version_major": 2,
       "version_minor": 0
      },
      "text/plain": [
       "Dropdown(description='term:', options=('substancetype', 'nanomaterial', 'protocol', 'endpointcategory', 'endpo…"
      ]
     },
     "metadata": {},
     "output_type": "display_data"
    }
   ],
   "source": [
    "term_widget = widgets.Dropdown(\n",
    "    options=solr_query.keys(),\n",
    "    description='term:',\n",
    "    disabled=False,\n",
    ")\n",
    "\n",
    "display(term_widget)"
   ]
  },
  {
   "cell_type": "code",
   "execution_count": 20,
   "metadata": {},
   "outputs": [
    {
     "name": "stderr",
     "output_type": "stream",
     "text": [
      "2019-03-23 20:18:01,135  INFO     {'q': 'type_s:conditions', 'wt': 'json', 'json.facet': '{field1: {type:terms,field:material_s ,limit : -1, mincount:1 ,facet: {field2: {type:terms,field:material_s ,limit : -1, mincount:1 }} }}', 'rows': 0}\n"
     ]
    }
   ],
   "source": [
    "project=service_widget.value\n",
    "solr_url=solr_services[project]\n",
    "#nested facet\n",
    "synonym_facet=\",facet: {field2: {\"+ \"{}:{},{}:{} ,limit : -1, mincount:1 \".format(\"type\",\"terms\",\"field\",solr_query[term_widget.value][\"synonym\"]) +\"}}\"\n",
    "json_facet=\"{field1: {\" + \"{}:{},{}:{} ,limit : -1, mincount:1 \".format(\"type\",\"terms\",\"field\",solr_query[term_widget.value][\"field\"]) + synonym_facet + \" }}\"\n",
    "\n",
    "query={'q': solr_query[term_widget.value][\"q\"],\"wt\" : \"json\", \"json.facet\": json_facet, 'rows': 0}\n",
    "logger.debug(solr_url)\n",
    "logger.info(query)"
   ]
  },
  {
   "cell_type": "code",
   "execution_count": 21,
   "metadata": {},
   "outputs": [
    {
     "name": "stderr",
     "output_type": "stream",
     "text": [
      "2019-03-23 20:18:01,535  INFO     200\n"
     ]
    }
   ],
   "source": [
    "import requests\n",
    "import enmapi   \n",
    "  \n",
    "r = requests.post(solr_url,data=query, auth=enmapi.AmbitAPIKEYAuth(apikey_widget.value) ,stream=False)\n",
    "logger.info(r.status_code)\n",
    "#print(r.json())"
   ]
  },
  {
   "cell_type": "code",
   "execution_count": 22,
   "metadata": {},
   "outputs": [
    {
     "data": {
      "application/vnd.jupyter.widget-view+json": {
       "model_id": "b3ee5076b4c0465da1e04b9f6aa29469",
       "version_major": 2,
       "version_minor": 0
      }
     },
     "metadata": {},
     "output_type": "display_data"
    }
   ],
   "source": [
    "import pandas as pd\n",
    "key1 = \"field1\"\n",
    "key2 = \"field2\"\n",
    "\n",
    "fields = r.json()[\"facets\"][key1][\"buckets\"]\n",
    "fields_name=[]\n",
    "fields_count=[]\n",
    "field_synonym=[]\n",
    "for value in fields:\n",
    "    fields_name.append(value['val'])\n",
    "    fields_count.append(value['count'])\n",
    "    _synonym=''\n",
    "    try:\n",
    "        for synonym in value[key2]['buckets']:\n",
    "            if synonym['val'].startswith(\"EP_\"):\n",
    "                continue\n",
    "            _synonym = _synonym + \" \" + synonym['val']\n",
    "\n",
    "    except Exception as err:\n",
    "        pass\n",
    "    field_synonym.append(_synonym.strip())    \n",
    "\n",
    "df = pd.DataFrame({term_widget.value : fields_name, \"count\" : fields_count, key2 : field_synonym})\n",
    "(df)"
   ]
  },
  {
   "cell_type": "code",
   "execution_count": null,
   "metadata": {},
   "outputs": [],
   "source": []
  }
 ],
 "metadata": {
  "kernelspec": {
   "display_name": "Python 3",
   "language": "python",
   "name": "python3"
  },
  "language_info": {
   "codemirror_mode": {
    "name": "ipython",
    "version": 3
   },
   "file_extension": ".py",
   "mimetype": "text/x-python",
   "name": "python",
   "nbconvert_exporter": "python",
   "pygments_lexer": "ipython3",
   "version": "3.6.6"
  },
  "toc": {
   "base_numbering": 1,
   "nav_menu": {},
   "number_sections": false,
   "sideBar": false,
   "skip_h1_title": false,
   "title_cell": "Table of Contents",
   "title_sidebar": "Contents",
   "toc_cell": false,
   "toc_position": {},
   "toc_section_display": false,
   "toc_window_display": false
  }
 },
 "nbformat": 4,
 "nbformat_minor": 2
}
