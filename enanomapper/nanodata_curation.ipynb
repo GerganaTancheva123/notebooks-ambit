{
 "cells": [
  {
   "cell_type": "markdown",
   "metadata": {},
   "source": [
    "# Nanosafety data query"
   ]
  },
  {
   "cell_type": "code",
   "execution_count": 15,
   "metadata": {},
   "outputs": [
    {
     "data": {
      "application/vnd.jupyter.widget-view+json": {
       "model_id": "f5e09b90d60c42c2bbb3b1e3d2cdc786",
       "version_major": 2,
       "version_minor": 0
      },
      "text/plain": [
       "Dropdown(description='Service:', options=('NANoREG', 'eNanoMapper', 'NanoReg2', 'caLIBRAte', 'GRACIOUS', 'PATR…"
      ]
     },
     "metadata": {},
     "output_type": "display_data"
    },
    {
     "data": {
      "application/vnd.jupyter.widget-view+json": {
       "model_id": "7a92f9a2b8144ab7a86aa1b26396a8e4",
       "version_major": 2,
       "version_minor": 0
      },
      "text/plain": [
       "Text(value='', description='API key', placeholder='')"
      ]
     },
     "metadata": {},
     "output_type": "display_data"
    }
   ],
   "source": [
    "# Setup\n",
    "import ipywidgets as widgets\n",
    "import json\n",
    "import os,datetime\n",
    "\n",
    "import logging\n",
    "from logging.config import fileConfig\n",
    "fileConfig('logging_endpoints_config.ini')\n",
    "global logger\n",
    "logger = logging.getLogger()\n",
    "logger.debug('Started at %s \\t%s',os.name, datetime.datetime.now())\n",
    "\n",
    "try:\n",
    "    with open('./config.solr.json') as f:\n",
    "        solr_services = json.load(f)\n",
    "except Exception as err:        \n",
    "    solr_services = None\n",
    "    logger.error(\"Something went wrong\",err)\n",
    "\n",
    "service_widget = widgets.Dropdown(\n",
    "    options=solr_services.keys(),\n",
    "    description='Service:',\n",
    "    disabled=False,\n",
    ")\n",
    "display(service_widget)\n",
    "\n",
    "apikey_widget=widgets.Text(\n",
    "    placeholder='',\n",
    "    description='API key',\n",
    "    disabled=False\n",
    ")\n",
    "display(apikey_widget)\n"
   ]
  },
  {
   "cell_type": "code",
   "execution_count": 16,
   "metadata": {},
   "outputs": [
    {
     "data": {
      "application/vnd.jupyter.widget-view+json": {
       "model_id": "1a5cb2a2133c453092f0f017fb354d7c",
       "version_major": 2,
       "version_minor": 0
      },
      "text/plain": [
       "Text(value='E.method_s', description='term', placeholder='')"
      ]
     },
     "metadata": {},
     "output_type": "display_data"
    }
   ],
   "source": [
    "term_widget=widgets.Text(\n",
    "    placeholder='',\n",
    "    description='term',\n",
    "    disabled=False,\n",
    "    value=\"E.method_s\"\n",
    ")\n",
    "display(term_widget)"
   ]
  },
  {
   "cell_type": "code",
   "execution_count": 23,
   "metadata": {},
   "outputs": [
    {
     "name": "stderr",
     "output_type": "stream",
     "text": [
      "2019-03-23 16:44:11,458  INFO     {'q': 'type_s:params', 'wt': 'json', 'json.facet': '{endpoint: {type:terms,field:E.method_s , limit:-1 }}', 'rows': 0}\n"
     ]
    }
   ],
   "source": [
    "project=service_widget.value\n",
    "solr_url=solr_services[project]\n",
    "json_facet=\"{endpoint: {\"+ \"{}:{},{}:{} , limit:-1 \".format(\"type\",\"terms\",\"field\",term_widget.value) + \"}}\"\n",
    "\n",
    "#query = {\"facet.field\" : term_widget.value.strip() , \"facet\" : \"on\",\"rows\" : 0 ,\"q\" : \"*:*\",\"wt\" : \"json\"}\n",
    "query={'q':\"type_s:params\",\"wt\" : \"json\", \"json.facet\": json_facet, 'rows': 0}\n",
    "logger.debug(solr_url)\n",
    "logger.info(query)"
   ]
  },
  {
   "cell_type": "code",
   "execution_count": 24,
   "metadata": {},
   "outputs": [
    {
     "name": "stderr",
     "output_type": "stream",
     "text": [
      "2019-03-23 16:44:12,070  INFO     200\n"
     ]
    }
   ],
   "source": [
    "import requests\n",
    "import enmapi   \n",
    "  \n",
    "r = requests.post(solr_url,data=query, auth=enmapi.AmbitAPIKEYAuth(apikey_widget.value) ,stream=False)\n",
    "logger.info(r.status_code)\n"
   ]
  },
  {
   "cell_type": "code",
   "execution_count": 25,
   "metadata": {},
   "outputs": [
    {
     "data": {
      "application/vnd.jupyter.widget-view+json": {
       "model_id": "6b2013ec031543d0ac9718d3642df86c",
       "version_major": 2,
       "version_minor": 0
      }
     },
     "metadata": {},
     "output_type": "display_data"
    }
   ],
   "source": [
    "import pandas as pd\n",
    "key = \"endpoint\"\n",
    "\n",
    "fields = r.json()[\"facets\"][key][\"buckets\"]\n",
    "fields_name=[]\n",
    "fields_count=[]\n",
    "for value in fields:\n",
    "    fields_name.append(value['val'])\n",
    "    fields_count.append(value['count'])\n",
    "        \n",
    "\n",
    "df = pd.DataFrame({key : fields_name, \"count\" : fields_count})\n",
    "(df)"
   ]
  },
  {
   "cell_type": "code",
   "execution_count": null,
   "metadata": {},
   "outputs": [],
   "source": []
  },
  {
   "cell_type": "code",
   "execution_count": null,
   "metadata": {},
   "outputs": [],
   "source": []
  }
 ],
 "metadata": {
  "kernelspec": {
   "display_name": "Python 3",
   "language": "python",
   "name": "python3"
  },
  "language_info": {
   "codemirror_mode": {
    "name": "ipython",
    "version": 3
   },
   "file_extension": ".py",
   "mimetype": "text/x-python",
   "name": "python",
   "nbconvert_exporter": "python",
   "pygments_lexer": "ipython3",
   "version": "3.6.6"
  },
  "toc": {
   "base_numbering": 1,
   "nav_menu": {},
   "number_sections": false,
   "sideBar": false,
   "skip_h1_title": false,
   "title_cell": "Table of Contents",
   "title_sidebar": "Contents",
   "toc_cell": false,
   "toc_position": {},
   "toc_section_display": false,
   "toc_window_display": false
  }
 },
 "nbformat": 4,
 "nbformat_minor": 2
}
