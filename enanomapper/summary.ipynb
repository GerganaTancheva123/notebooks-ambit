{
 "cells": [
  {
   "cell_type": "markdown",
   "metadata": {},
   "source": [
    "# NanoSafety data summary\n",
    "\n",
    "- using aggregated search"
   ]
  },
  {
   "cell_type": "code",
   "execution_count": null,
   "metadata": {},
   "outputs": [],
   "source": [
    "import yaml\n",
    "from solrscope import aa\n",
    "import ipywidgets as widgets\n",
    "from ipywidgets import interact, interactive, fixed, interact_manual\n",
    "import requests\n",
    "from importlib import reload \n",
    "from solrscope import client_solr\n",
    "from solrscope import client_ambit\n",
    "from solrscope import annotation\n",
    "import pandas as pd\n",
    "import numpy as np\n",
    "import json\n",
    "import pandas as pd\n",
    "#import qgrid\n",
    "import warnings\n",
    "warnings.simplefilter(\"ignore\")"
   ]
  },
  {
   "cell_type": "code",
   "execution_count": null,
   "metadata": {},
   "outputs": [],
   "source": [
    "print('Select enanoMapper aggregated search service:')\n",
    "style = {'description_width': 'initial'}\n",
    "config,config_servers, config_security, auth_object, msg = aa.parseOpenAPI3()    \n",
    "service_widget = widgets.Dropdown(\n",
    "    options=config_servers['url'],\n",
    "    description='Service:',\n",
    "    disabled=False,\n",
    "    style=style\n",
    ")\n",
    "if config_security is None:\n",
    "    service = interactive(aa.search_service_open,url=service_widget)\n",
    "else:\n",
    "    print(msg)\n",
    "    apikey_widget=widgets.Text(\n",
    "            placeholder='',\n",
    "            description=config_security,\n",
    "            disabled=False,\n",
    "            style=style\n",
    "    )    \n",
    "    service = interactive(aa.search_service_protected,url=service_widget,apikey=apikey_widget)    \n",
    "\n",
    "display(service)"
   ]
  },
  {
   "cell_type": "code",
   "execution_count": null,
   "metadata": {},
   "outputs": [],
   "source": [
    "service_uri=service_widget.value\n",
    "if auth_object!=None:\n",
    "    auth_object.setKey(apikey_widget.value)\n",
    "print(\"Sending queries to {}\".format(service_uri))\n",
    "facets = client_solr.Facets()\n"
   ]
  },
  {
   "cell_type": "code",
   "execution_count": null,
   "metadata": {},
   "outputs": [],
   "source": [
    "    query_widget=widgets.Text(\n",
    "        placeholder='',\n",
    "        value=\"*:*\",\n",
    "        description=\"Query\",\n",
    "        disabled=False,\n",
    "        style=style\n",
    "    )\n",
    "    display(query_widget)"
   ]
  },
  {
   "cell_type": "code",
   "execution_count": null,
   "metadata": {},
   "outputs": [],
   "source": [
    "method_field=\"E.method_s\"\n",
    "method_synonym=\"E.method_synonym_ss\"\n",
    "# method_field=\"guidance_s\"\n",
    "\n",
    "def summary(query=\"*:*\",fq=\"type_s:study\",statistics=\"Number of data points\",fields=[\"topcategory_s\",\"endpointcategory_s\",method_field,\"substanceType_s\",\"publicname_s\",\"reference_owner_s\"],log_query=None,log_result=None):\n",
    "    colnames=[\"Z\"]\n",
    "    colnames.extend(fields)\n",
    "    colnames.append(statistics)\n",
    "    _stats=[]\n",
    "    reload(client_solr)\n",
    "    def process(prefix,val,count,key,_tuple):\n",
    "        if len(_tuple)==len(fields):\n",
    "            _tuple = (*_tuple,val,count)\n",
    "            _stats.append(_tuple)\n",
    "    q=facets.getQuery(query=query,facets=fields,fq=fq)\n",
    "    if log_query!=None:\n",
    "        log_query(q)\n",
    "    \n",
    "    r = client_solr.post(service_uri,query=q,auth=auth_object)\n",
    "    response_json=r.json()\n",
    "\n",
    "    if r.status_code==200:\n",
    "        if log_result!=None:\n",
    "            log_result(response_json)\n",
    "        facets.parse(response_json['facets'],prefix=\">\",process=process)\n",
    "        df = pd.DataFrame(_stats,columns=colnames).drop(\"Z\", axis=1)\n",
    "        if \"substanceType_s\" in df.columns:\n",
    "            a = annotation.DictionarySubstancetypes()\n",
    "            df[ 'substanceType_name']=df[ 'substanceType_s'].apply(a.annotate)\n",
    "        if \"substanceType_hs\" in df.columns:\n",
    "            a = annotation.DictionarySubstancetypes()\n",
    "            df[ 'substanceType_name']=df[ 'substanceType_hs'].apply(a.annotate)            \n",
    "        if \"endpointcategory_s\" in df.columns:    \n",
    "            a = annotation.DictionaryEndpointCategory()\n",
    "            df[ 'endpointcategory_term']=df[ 'endpointcategory_s'].apply(a.annotate)\n",
    "            a = annotation.DictionaryEndpointCategoryNames()\n",
    "            df[ 'endpointcategory_name']=df[ 'endpointcategory_s'].apply(a.annotate)\n",
    "        \n",
    "        if \"method_term\" in df.columns:\n",
    "            a = annotation.DictionaryAssays()\n",
    "            df[ 'method_term']=df[method_field].apply(a.annotate)\n",
    "        return (df)\n",
    "    else:\n",
    "        print(r.status_code)\n",
    "        return (None)\n",
    "    \n",
    "df = summary(query=\"*:*\",fields=[\"topcategory_s\",\"endpointcategory_s\",method_synonym,method_field,\"substanceType_s\",\"publicname_s\",\"reference_owner_s\"])    \n",
    "df.head()"
   ]
  },
  {
   "cell_type": "code",
   "execution_count": null,
   "metadata": {},
   "outputs": [],
   "source": [
    "table = pd.pivot_table(df, values='Number of data points', index=['topcategory_s','endpointcategory_name',method_synonym,method_field], columns=[ 'substanceType_s',\"publicname_s\"], aggfunc=np.sum).fillna(\"\");\n",
    "display(table)\n",
    "\n",
    "table.reset_index().to_excel(\"method_material.xlsx\")"
   ]
  },
  {
   "cell_type": "code",
   "execution_count": null,
   "metadata": {},
   "outputs": [],
   "source": [
    "table = pd.pivot_table(df, values='reference_owner_s', index=['topcategory_s','endpointcategory_name',method_field], columns=[ 'substanceType_name','publicname_s'], \n",
    "                             aggfunc=lambda x: ' '.join(str(v) for v in x)).fillna(\"\")\n",
    "\n",
    "display(table)\n",
    "\n"
   ]
  },
  {
   "cell_type": "code",
   "execution_count": null,
   "metadata": {},
   "outputs": [],
   "source": [
    "table.reset_index().to_excel(\"method_material_provider.xlsx\")"
   ]
  },
  {
   "cell_type": "markdown",
   "metadata": {},
   "source": [
    "# Misc statistics "
   ]
  },
  {
   "cell_type": "code",
   "execution_count": null,
   "metadata": {},
   "outputs": [],
   "source": [
    "import seaborn as sns\n",
    "import matplotlib.pyplot as plt\n",
    "#sns.set_palette(sns.color_palette(\"hls\", 8))\n",
    "sns.set_palette(sns.color_palette(\"Set1\"))\n"
   ]
  },
  {
   "cell_type": "code",
   "execution_count": null,
   "metadata": {},
   "outputs": [],
   "source": [
    "df = summary(query=\"*:*\",fq=\"type_s:study\",statistics=\"Number of data points\",\n",
    "                 fields=[\"topcategory_s\",\"endpointcategory_s\",method_field,\"owner_name_s\",\"reference_owner_s\",\"substanceType_s\"])    \n",
    "df.rename(columns={\"owner_name_s\" : \"Project\",\"topcategory_s\":\"Study type\",\"substanceType_name\": \"NM type\"},inplace=True)    \n",
    "df.head()"
   ]
  },
  {
   "cell_type": "code",
   "execution_count": null,
   "metadata": {},
   "outputs": [],
   "source": [
    "#use this to find where method field is missing\n",
    "#table = pd.pivot_table(df, values=method_field, index=['topcategory_s','endpointcategory_name'], columns=[ 'owner_name_s'], aggfunc=lambda x: ' '.join(str(v) for v in x)).fillna(\"\")\n",
    "table = pd.pivot_table(df, values=\"Number of data points\", index=['Study type'], columns=[ 'Project'], aggfunc=np.sum).fillna(0);\n",
    "display(table)\n",
    "p = table.plot(kind=\"bar\",  figsize=(10,10) ,sharey =True,title=\"Number of data points\", grid=True)\n",
    "fig = p.get_figure()\n",
    "fig.savefig(\"studytype_datapoints.png\")"
   ]
  },
  {
   "cell_type": "markdown",
   "metadata": {},
   "source": [
    "## Methods summary"
   ]
  },
  {
   "cell_type": "code",
   "execution_count": null,
   "metadata": {},
   "outputs": [],
   "source": [
    "#Methods summary\n",
    "#table = pd.pivot_table(df, values=method_field, index=['Study type','endpointcategory_name'], columns=[ 'Project'], aggfunc=lambda x: ' '.join(str(v) for v in x)).fillna(\"\")\n",
    "table = pd.pivot_table(df, values=method_field, index=['Study type','endpointcategory_name'], columns=[ 'Project'], aggfunc=lambda x: ';'.join(set(str(v) for v in x))).fillna(\"\")\n",
    "table.head(20)"
   ]
  },
  {
   "cell_type": "markdown",
   "metadata": {},
   "source": [
    "## Number of data points per material and project"
   ]
  },
  {
   "cell_type": "code",
   "execution_count": null,
   "metadata": {},
   "outputs": [],
   "source": [
    "table = pd.pivot_table(df, values=\"Number of data points\", index=['NM type'], columns=[ 'Project'], aggfunc=np.sum).fillna(0);\n",
    "display(table)\n",
    "p = table.plot(kind=\"bar\",  figsize=(20,10) ,title=\"Number of data points\", grid=True, stacked =False, sharey=True, subplots=True)\n",
    "#fig = p.get_figure()\n",
    "#fig.savefig(\"nmtype_datapoints.png\")"
   ]
  },
  {
   "cell_type": "markdown",
   "metadata": {},
   "source": [
    "## Number of data points per material and study type"
   ]
  },
  {
   "cell_type": "code",
   "execution_count": null,
   "metadata": {},
   "outputs": [],
   "source": [
    "table = pd.pivot_table(df, values=\"Number of data points\", columns=['NM type'], index=[ 'Study type'], aggfunc=np.sum).fillna(0);\n",
    "display(table)\n",
    "p = table.plot(kind=\"bar\",  figsize=(20,10) ,title=\"Number of data points\", grid=True, stacked =False, sharey=True, subplots=False)\n",
    "#fig = p.get_figure()\n",
    "#fig.savefig(\"nmtype_datapoints.png\")"
   ]
  },
  {
   "cell_type": "markdown",
   "metadata": {},
   "source": [
    "# Materials"
   ]
  },
  {
   "cell_type": "code",
   "execution_count": null,
   "metadata": {},
   "outputs": [],
   "source": [
    "import matplotlib.pyplot as plt\n",
    "binary = [\"#ff0000\",\"#00ff00\"]\n",
    "sns.set_palette(binary)\n",
    "#red/green palette\n",
    "#sns.palplot(sns.color_palette())\n",
    "  \n",
    "def plot_heatmap(table,q):    \n",
    "    sns.set_style('ticks')\n",
    "    fig, ax = plt.subplots()\n",
    "    # the size of A4 paper\n",
    "    fig.set_size_inches(10,10)\n",
    "    #fig.set_size_inches(11.7/4, 8.27/4)\n",
    "    sns_plot = sns.heatmap(table, cmap=binary)\n",
    "    sns_plot.set_title(q)\n",
    "    sns_plot.get_figure().savefig(q+\".png\")\n",
    "    return (sns_plot)\n"
   ]
  },
  {
   "cell_type": "code",
   "execution_count": null,
   "metadata": {},
   "outputs": [],
   "source": [
    "df = summary(query=\"*:*\",fq=\"type_s:substance\",statistics=\"Number of NM\", fields=[\"owner_name_hs\",\"substanceType_hs\",\"publicname_hs\"])    \n",
    "df.rename(columns={\"owner_name_hs\" : \"Project\",\"topcategory_s\":\"Study type\",\"substanceType_name\": \"NM type\"},inplace=True)"
   ]
  },
  {
   "cell_type": "code",
   "execution_count": null,
   "metadata": {
    "scrolled": true
   },
   "outputs": [],
   "source": [
    "table = pd.pivot_table(df, values=\"Number of NM\", index=['publicname_hs'], columns=[ 'Project'], aggfunc='any').fillna(False)\n",
    "plot_heatmap(table,\"NM\")"
   ]
  },
  {
   "cell_type": "markdown",
   "metadata": {},
   "source": [
    "# Endpoints"
   ]
  },
  {
   "cell_type": "code",
   "execution_count": null,
   "metadata": {},
   "outputs": [],
   "source": [
    "def queryEndpoints(_query=\"topcategory_s:TOX\"):\n",
    "    print(_query)\n",
    "    df = summary(query=_query,fq=\"type_s:study\",statistics=\"Number of data points\", fields=[\"topcategory_s\",\"endpointcategory_s\",\"effectendpoint_s\",\"substanceType_s\",\"publicname_s\"])        \n",
    "    df.rename(columns={\"owner_name_s\" : \"Project\",\"topcategory_s\":\"Study type\",\"substanceType_name\": \"NM type\",\"endpointcategory_name\":\"endpoint\"},inplace=True)\n",
    "    table = pd.pivot_table(df, values=\"Number of data points\", index=['NM type'], columns=['endpoint' ], aggfunc='any').fillna(False)\n",
    "    return (df,table)\n",
    "\n"
   ]
  },
  {
   "cell_type": "code",
   "execution_count": null,
   "metadata": {},
   "outputs": [],
   "source": [
    "q=\"TOX\"\n",
    "df,table=queryEndpoints(_query=\"topcategory_s:\"+q)\n",
    "display(df.head())\n",
    "display(table)\n",
    "plot_heatmap(table,q)"
   ]
  },
  {
   "cell_type": "code",
   "execution_count": null,
   "metadata": {},
   "outputs": [],
   "source": [
    "q=\"P-CHEM\"\n",
    "df,table=queryEndpoints(_query=\"topcategory_s:\"+q)\n",
    "plot_heatmap(table,q)"
   ]
  },
  {
   "cell_type": "code",
   "execution_count": null,
   "metadata": {
    "scrolled": true
   },
   "outputs": [],
   "source": [
    "q=\"ECOTOX\"\n",
    "df,table=queryEndpoints(_query=\"topcategory_s:\"+q)\n",
    "plot_heatmap(table,q)"
   ]
  },
  {
   "cell_type": "markdown",
   "metadata": {},
   "source": [
    "## Compacted summary"
   ]
  },
  {
   "cell_type": "code",
   "execution_count": null,
   "metadata": {},
   "outputs": [],
   "source": [
    "def log_query(query):\n",
    "    print(query)\n",
    "    \n",
    "def log_result(json):\n",
    "    print(json)\n",
    "    \n"
   ]
  },
  {
   "cell_type": "code",
   "execution_count": null,
   "metadata": {},
   "outputs": [],
   "source": [
    "\n",
    "df = summary(query=\"owner_name_s:GRACIOUS\",fields=[\"publicname_s\",\"endpointcategory_s\",\"guidance_s\",method_synonym,method_field,\"reference_owner_s\",\"effectendpoint_s\",\"effectendpoint_synonym_s\",\"effectendpoint_type_s\",\"unit_s\",\"loValue_d\",\"upValue_d\",\"err_d\",\"textValue_s\"],log_query=log_query,log_result=log_result)    \n",
    "\n",
    "df.head()"
   ]
  },
  {
   "cell_type": "code",
   "execution_count": null,
   "metadata": {},
   "outputs": [],
   "source": [
    "df_num = df[df['loValue_d']!=\"_\"]\n",
    "df_num = df_num.astype({\"loValue_d\": float})\n",
    "df_num[\"report\"] = df_num[method_field] + \" \"  + df_num['reference_owner_s']\n",
    "display(df_num)"
   ]
  },
  {
   "cell_type": "code",
   "execution_count": null,
   "metadata": {},
   "outputs": [],
   "source": [
    "_aggfunc=[np.min,np.max]\n",
    "#_aggfunc=[','.join,  np.mean]\n",
    "\n",
    "table = pd.pivot_table(df_num, values=['loValue_d'], index=['endpointcategory_name','effectendpoint_s','effectendpoint_type_s','unit_s'], columns=[ \"publicname_s\",method_field,'reference_owner_s'], aggfunc=_aggfunc).fillna('');\n",
    "display(table)"
   ]
  },
  {
   "cell_type": "code",
   "execution_count": null,
   "metadata": {},
   "outputs": [],
   "source": [
    "table.reset_index().to_excel(\"compactedsummary.xlsx\")"
   ]
  },
  {
   "cell_type": "markdown",
   "metadata": {},
   "source": [
    "### trying the same without facets"
   ]
  },
  {
   "cell_type": "code",
   "execution_count": null,
   "metadata": {},
   "outputs": [],
   "source": [
    "reload(client_solr)\n",
    "study = client_solr.StudyDocuments()\n",
    "filter = {'topcategory_s':'P-CHEM', 'endpointcategory_s' : 'ZETA_POTENTIAL_SECTION' }\n",
    "study.setStudyFilter(filter)\n",
    "\n",
    "print(study.getSettings())\n",
    "#all TiO2 NPO_1486\n",
    "    \n",
    "query = study.getQuery(textfilter='owner_name_s:GRACIOUS',rows=10000)\n",
    "r = client_solr.post(service_uri,query=query,auth=auth_object)"
   ]
  },
  {
   "cell_type": "code",
   "execution_count": null,
   "metadata": {},
   "outputs": [],
   "source": [
    "#parse the data\n",
    "if r.status_code==200:\n",
    "    study = client_solr.StudyDocuments()\n",
    "    rows = study.parse(r.json()['response']['docs'])\n",
    "    df = study.rows2frame(rows)\n",
    "    rows=None\n",
    "    uuids = ['uuid.investigation','uuid.assay','uuid.document','uuid.substance']\n",
    "    df.sort_values(by=uuids)\n",
    "    display(df)\n",
    "else:\n",
    "    print(r.status_code)"
   ]
  },
  {
   "cell_type": "code",
   "execution_count": null,
   "metadata": {},
   "outputs": [],
   "source": [
    "print(query)"
   ]
  },
  {
   "cell_type": "code",
   "execution_count": null,
   "metadata": {},
   "outputs": [],
   "source": [
    "params=  {\n",
    "\"q\": \"owner_name_s:GRACIOUS\",\n",
    "\"indent\": \"on\",\n",
    "\"fq\": \"type_s:study\",\n",
    "\"fl\": \"owner_name_s,publicname_s,topcategory_s,endpointcategory_s,guidance_s,effectendpoint_s,effectendpoint_synonym_ss,effectendpoint_type_s,reference_owner_s,loValue_d,upValue_d,unit_s,err_d,err_Qualifier_s,textValue_s,[child parentFilter=filter(type_s:study) childFilter='filter(type_s:params)']\",\n",
    "\"wt\": \"json\",\n",
    "\"rows\" : 1000\n",
    "}\n",
    "reload(client_solr)\n",
    "r = requests.get(service_uri + \"/select\",params=params, auth=auth_object)\n",
    " "
   ]
  },
  {
   "cell_type": "code",
   "execution_count": null,
   "metadata": {},
   "outputs": [],
   "source": [
    "\n",
    "from pandas.io.json import json_normalize\n",
    "docs = json_normalize(r.json()['response']['docs'])\n",
    "display(docs)"
   ]
  },
  {
   "cell_type": "code",
   "execution_count": null,
   "metadata": {},
   "outputs": [],
   "source": []
  }
 ],
 "metadata": {
  "kernelspec": {
   "display_name": "Python 3",
   "language": "python",
   "name": "python3"
  },
  "language_info": {
   "codemirror_mode": {
    "name": "ipython",
    "version": 3
   },
   "file_extension": ".py",
   "mimetype": "text/x-python",
   "name": "python",
   "nbconvert_exporter": "python",
   "pygments_lexer": "ipython3",
   "version": "3.7.3"
  },
  "toc": {
   "base_numbering": 1,
   "nav_menu": {},
   "number_sections": false,
   "sideBar": false,
   "skip_h1_title": false,
   "title_cell": "Table of Contents",
   "title_sidebar": "Contents",
   "toc_cell": false,
   "toc_position": {},
   "toc_section_display": false,
   "toc_window_display": false
  }
 },
 "nbformat": 4,
 "nbformat_minor": 2
}
