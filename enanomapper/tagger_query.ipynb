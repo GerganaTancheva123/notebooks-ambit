{
 "cells": [
  {
   "cell_type": "markdown",
   "metadata": {},
   "source": [
    "# Using Solr tagger\n",
    "\n",
    "https://lucene.apache.org/solr/guide/7_4/the-tagger-handler.html"
   ]
  },
  {
   "cell_type": "code",
   "execution_count": null,
   "metadata": {},
   "outputs": [],
   "source": [
    "from ipywidgets import widgets, interact, interactive, fixed, interact_manual\n",
    "from pandas.io.json import json_normalize\n",
    "import requests\n",
    "\n"
   ]
  },
  {
   "cell_type": "code",
   "execution_count": null,
   "metadata": {},
   "outputs": [],
   "source": [
    "options = {'url':'https://solr-dev.ideaconsult.net/solr/tagger/tag?tagsLimit=5000','name':'','password':''}\n",
    "@interact(url=options['url'],name=options['name'], password=options['password'])\n",
    "def g(url,name,password):\n",
    "    options['url']=url\n",
    "    options['name'] =name\n",
    "    options['password'] = password\n",
    "    return (url,name,password)"
   ]
  },
  {
   "cell_type": "code",
   "execution_count": null,
   "metadata": {},
   "outputs": [],
   "source": [
    "# example query excerpt from https://arxiv.org/abs/1906.00212\n",
    "query = \"HRTEM, with EDX and high-angle annular dark-field scanning transmission electron microscopy were performed using \\\n",
    "JEOL JEMARM200F and JEM-ARM200CF with an acceleration voltage of 200 kV. The JEOL Analysis Station software was used to control the STEM-EDX mapping. \\\n",
    "To minimize the effect of sample drift, a driftcorrection mode was used during acquisition of the elemental map.\\\n",
    "The STEM probe size was ~0.13 nm, generating ~140 pA of current when 40 \\u00b5m of the condenser lens aperture was inserted. \\\n",
    "The collection angle of the HAADF detector was ~97-256 mr\"\n",
    "@interact(query=query)\n",
    "def g(query):\n",
    "    x = requests.post(options['url'], data = query.encode(encoding='utf-8'),  auth=(options['name'],options['password']))\n",
    "    if x.status_code==200:\n",
    "        tags=x.json()[\"tags\"]\n",
    "        results = json_normalize(x.json()['response']['docs'])\n",
    "        for tag in tags:\n",
    "            #print(tag)\n",
    "            _id=tag[5][0]\n",
    "            term = results[results[\"id\"].isin(tag[5])]      \n",
    "            print(\"{}\\t [at offset {}:{}]\".format(query[tag[1]:tag[3]],tag[1],tag[3]))\n",
    "            display(term[[\"id\",\"name\",\"ontology\",\"definition\"]])\n",
    "\n",
    "        display(results)\n",
    "        #print(x.json())\n",
    "    else:\n",
    "        display(x.status_code)  \n",
    "    return (query)"
   ]
  },
  {
   "cell_type": "code",
   "execution_count": null,
   "metadata": {},
   "outputs": [],
   "source": []
  }
 ],
 "metadata": {
  "kernelspec": {
   "display_name": "Python 3",
   "language": "python",
   "name": "python3"
  },
  "language_info": {
   "codemirror_mode": {
    "name": "ipython",
    "version": 3
   },
   "file_extension": ".py",
   "mimetype": "text/x-python",
   "name": "python",
   "nbconvert_exporter": "python",
   "pygments_lexer": "ipython3",
   "version": "3.7.3"
  },
  "toc": {
   "base_numbering": 1,
   "nav_menu": {},
   "number_sections": false,
   "sideBar": false,
   "skip_h1_title": false,
   "title_cell": "Table of Contents",
   "title_sidebar": "Contents",
   "toc_cell": false,
   "toc_position": {},
   "toc_section_display": false,
   "toc_window_display": false
  }
 },
 "nbformat": 4,
 "nbformat_minor": 2
}
