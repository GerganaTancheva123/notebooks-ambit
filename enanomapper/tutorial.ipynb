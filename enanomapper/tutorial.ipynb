{
 "cells": [
  {
   "cell_type": "markdown",
   "metadata": {},
   "source": [
    "# eNanoMapper database "
   ]
  },
  {
   "cell_type": "code",
   "execution_count": null,
   "metadata": {},
   "outputs": [],
   "source": [
    "# background"
   ]
  },
  {
   "cell_type": "markdown",
   "metadata": {},
   "source": [
    "## eNanoMapper data model"
   ]
  },
  {
   "cell_type": "code",
   "execution_count": null,
   "metadata": {},
   "outputs": [],
   "source": []
  },
  {
   "cell_type": "markdown",
   "metadata": {},
   "source": [
    "# Aggregated search\n",
    "\n",
    "Using Solr-powered free text and faceted search over several eNanoMapper database instances"
   ]
  },
  {
   "cell_type": "code",
   "execution_count": 1,
   "metadata": {},
   "outputs": [],
   "source": [
    "from solrscope import aa\n",
    "import ipywidgets as widgets\n",
    "import requests\n",
    "from importlib import reload \n",
    "from solrscope import client_solr\n",
    "import pandas as pd\n",
    "import numpy as np"
   ]
  },
  {
   "cell_type": "markdown",
   "metadata": {},
   "source": [
    "### Service selection"
   ]
  },
  {
   "cell_type": "code",
   "execution_count": 2,
   "metadata": {},
   "outputs": [
    {
     "name": "stdout",
     "output_type": "stream",
     "text": [
      "Select enanoMapper aggregated search service:\n"
     ]
    },
    {
     "data": {
      "application/vnd.jupyter.widget-view+json": {
       "model_id": "3f75400d53814373b95a9cb79b75a7fd",
       "version_major": 2,
       "version_minor": 0
      },
      "text/plain": [
       "Dropdown(description='Service:', options=('https://api.ideaconsult.net/enanomapper', 'https://api.ideaconsult.…"
      ]
     },
     "metadata": {},
     "output_type": "display_data"
    }
   ],
   "source": [
    "print('Select enanoMapper aggregated search service:')\n",
    "style = {'description_width': 'initial'}\n",
    "config,config_servers, config_security = aa.parseOpenAPI3()    \n",
    "service_widget = widgets.Dropdown(\n",
    "    options=config_servers['url'],\n",
    "    description='Service:',\n",
    "    disabled=False,\n",
    "    style=style\n",
    ")\n",
    "display(service_widget)"
   ]
  },
  {
   "cell_type": "code",
   "execution_count": 3,
   "metadata": {},
   "outputs": [
    {
     "name": "stdout",
     "output_type": "stream",
     "text": [
      "Enter `X-Gravitee-Api-Key` you have received upon subscription to http://api.ideaconsult.net\n"
     ]
    },
    {
     "data": {
      "application/vnd.jupyter.widget-view+json": {
       "model_id": "e6c21eb3f6c74dfe8dbf71dd2dfb2b5c",
       "version_major": 2,
       "version_minor": 0
      },
      "text/plain": [
       "Text(value='', description='X-Gravitee-Api-Key', placeholder='', style=DescriptionStyle(description_width='ini…"
      ]
     },
     "metadata": {},
     "output_type": "display_data"
    }
   ],
   "source": [
    "if config_security!='':\n",
    "    print('Enter `{}` you have received upon subscription to http://api.ideaconsult.net'.format(config_security) )\n",
    "    style = {'description_width': 'initial'}\n",
    "    apikey_widget=widgets.Text(\n",
    "        placeholder='',\n",
    "        description=config_security,\n",
    "        disabled=False,\n",
    "        style=style\n",
    "    )\n",
    "    display(apikey_widget)"
   ]
  },
  {
   "cell_type": "code",
   "execution_count": 4,
   "metadata": {},
   "outputs": [
    {
     "name": "stdout",
     "output_type": "stream",
     "text": [
      "Sending queries to https://api.ideaconsult.net/nanoinformatix\n"
     ]
    }
   ],
   "source": [
    "service_uri=service_widget.value\n",
    "print(\"Sending queries to {}\".format(service_uri))\n"
   ]
  },
  {
   "cell_type": "markdown",
   "metadata": {},
   "source": [
    "### Faceted search \n",
    "#### [Facets] Get all cell types"
   ]
  },
  {
   "cell_type": "code",
   "execution_count": 5,
   "metadata": {},
   "outputs": [
    {
     "name": "stdout",
     "output_type": "stream",
     "text": [
      "'ALL'\t71963\n",
      "\t'A549'\t11156\n",
      "\t'CACO-2'\t9417\n",
      "\t'leukocytes'\t4016\n",
      "\t'THP-1'\t3359\n",
      "\t'Lymphocytes'\t3179\n",
      "\t'RAW 264.7'\t2683\n",
      "\t'BALB/3T3'\t2332\n",
      "\t'MH-S'\t2016\n",
      "\t'CALU-3'\t1974\n",
      "\t'BeWo b30'\t1417\n",
      "\t'GF'\t1369\n",
      "\t'BEAS-2B'\t1192\n",
      "\t'TK6'\t888\n",
      "\t'HMDM'\t840\n",
      "\t'16HBE14o-'\t822\n",
      "\t'U937'\t588\n",
      "\t'HepG2'\t490\n",
      "\t'HK-2'\t460\n",
      "\t'SAOS'\t380\n",
      "\t'LA-4'\t348\n",
      "\t'MDCK'\t337\n",
      "\t'A549:THP1'\t327\n",
      "\t'HCEC'\t289\n",
      "\t'EC219'\t282\n",
      "\t'N11'\t262\n",
      "\t'K562'\t223\n",
      "\t'mouse primary lung fibroblasts'\t202\n",
      "\t'LLC-PK'\t194\n",
      "\t'Kupffer cells'\t129\n",
      "\t'BAL'\t124\n",
      "\t'V79'\t104\n",
      "\t'LIVER CELLS'\t98\n",
      "\t'HEPG2'\t97\n",
      "\t'J774'\t96\n",
      "\t'PERITONEAL PRIMARY MACROPHAGES'\t96\n",
      "\t'TM3 Leydig cells'\t96\n",
      "\t'LUNG CELLS'\t86\n",
      "\t'3T3'\t72\n",
      "\t'CAKI-1'\t56\n",
      "\t'Hepatocytes'\t56\n",
      "\t'BONE MARROW CELLS'\t55\n",
      "\t'ECp23'\t54\n",
      "\t'LN229'\t48\n",
      "\t'mES'\t48\n",
      "\t'HEP3B'\t42\n",
      "\t'NHBE'\t36\n",
      "\t'16HBE'\t33\n",
      "\t'NIH3T3'\t28\n",
      "\t'mouse primary lung fibroblasts, 3T3 and HFL-1'\t23\n",
      "\t'human umbilical vein endothelial cells (huvec)'\t20\n",
      "\t'MLN'\t12\n",
      "\t'SPLEEN CELLS'\t12\n",
      "\t'BRAIN CELL'\t9\n",
      "\t'ES'\t8\n",
      "\t'OVARY CELLS'\t6\n",
      "\t'PERIPHERAL BLOOD - LEUKOCYTES'\t6\n"
     ]
    }
   ],
   "source": [
    "reload(client_solr)\n",
    "\n",
    "facets = client_solr.Facets()\n",
    "query=facets.getQuery(query=\"*:*\",facets=[\"E.cell_type_s\"],fq=\"type_s:params\")\n",
    "#print(query)\n",
    "r = client_solr.post(service_uri,query=query,auth=aa.GraviteeAuth(apikey_widget.value))\n",
    "response_json=r.json()\n",
    "if r.status_code==200:\n",
    "    facets.parse(response_json['facets'])\n",
    "else:\n",
    "    print(r.status_code)\n"
   ]
  },
  {
   "cell_type": "markdown",
   "metadata": {},
   "source": [
    "#### [Facets] Get all protocols per endpoint for titanium dioxide nanoparticles (NPO_1486)"
   ]
  },
  {
   "cell_type": "code",
   "execution_count": null,
   "metadata": {},
   "outputs": [],
   "source": [
    "fields=[\"topcategory_s\",\"endpointcategory_s\",\"guidance_s\"]\n",
    "query=facets.getQuery(query=\"substanceType_s:NPO_1486\",fq=\"type_s:study\",facets=fields)\n",
    "print(query)\n",
    "r = client_solr.post(service_uri,query=query,auth=aa.GraviteeAuth(apikey_widget.value))\n",
    "print(r.status_code)\n",
    "if r.status_code==200:\n",
    "    facets.parse(r.json()['facets'])\n",
    "else:\n",
    "    print(r.status_code)"
   ]
  },
  {
   "cell_type": "markdown",
   "metadata": {},
   "source": [
    "#### [Facets] Get all methods"
   ]
  },
  {
   "cell_type": "code",
   "execution_count": 30,
   "metadata": {},
   "outputs": [
    {
     "name": "stdout",
     "output_type": "stream",
     "text": [
      "{'q': '*:*', 'fq': 'type_s:params', 'wt': 'json', 'json.facet': '{field4: {type:terms,field:topcategory_s ,limit : -1, mincount:1, missing:true , facet:{field3: {type:terms,field:endpointcategory_s ,limit : -1, mincount:1, missing:true , facet:{field2: {type:terms,field:E.method_s ,limit : -1, mincount:1, missing:true , facet:{field1: {type:terms,field:E.sop_reference_s ,limit : -1, mincount:1, missing:true }}}}}}}}', 'rows': 0}\n",
      "200\n",
      "'ALL'\t71963\n",
      "\t'TOX'\t59126\n",
      "\t\t'ENM_0000068_SECTION'\t23163\n",
      "\t\t\t'NRU'\t3178\n",
      "\t\t\t\t'https://phabricator.ideaconsult.net/source/nanodata-marina/browse/master/WP09_In_Vitro/P35_UniParma/MARINA-TMDF-WP09-P35-Neutral_Red_19_3_14.doc'\t2898\n",
      "\t\t\t\t'CIRCABC WP5'\t280\n",
      "\t\t\t'Resazurin'\t2663\n",
      "\t\t\t\t'https://phabricator.ideaconsult.net/source/nanodata-marina/browse/master/WP09_In_Vitro/P35_UniParma/MARINA-TMDF-WP09-P35_Resazurin_19_3_14.doc'\t2663\n",
      "\t\t\t'MTS CELL VIABILITY ASSAY'\t1735\n",
      "\t\t\t\t'NANOVALID SOP FOR MTS CELL VIABILITY ASSAY'\t714\n",
      "\t\t\t\t'CIRCABC WP5'\t484\n",
      "\t\t\t\t'MTS CELL VIABILITY FOR NP-TREATED A549 CELLS'\t195\n",
      "\t\t\t\t'MTS CELL VIABILITY FOR NP-TREATED THP-1CELLS'\t174\n",
      "\t\t\t\t'MTS CELL VIABILITY ASSAY FOR NP-TREATED CACO-2 CELLS_NANOVALID'\t66\n",
      "\t\t\t\t'NANOVALID'\t59\n",
      "\t\t\t\t'MTS CELL VIABILITY FOR NP-TREATED THP-1 CELLS'\t42\n",
      "\t\t\t'IMPEDANCE ADHERENT CELLS'\t1726\n",
      "\t\t\t\t'LOCAL'\t1726\n",
      "\t\t\t'WST-1'\t1720\n",
      "\t\t\t\t'https://phabricator.ideaconsult.net/diffusion/24/browse/master/WP4_InVitro/P10_IUF_Dusseldorf/ENPRA%20description%20WST-1.doc'\t990\n",
      "\t\t\t\t'https://phabricator.ideaconsult.net/diffusion/24/browse/master/WP4_InVitro/P09_HelmHoltz-Muenchen/New20120330/cell_viability/ENPRA_TMD-Form_nhub-v02%20HMGUP9%20Viability.doc'\t336\n",
      "\t\t\t\t'https://phabricator.ideaconsult.net/diffusion/24/browse/master/WP4_InVitro/P07_Med-Kuleuven/WP4%20-%20P7%20-%20WST-1.doc'\t162\n",
      "\t\t\t\t'https://phabricator.ideaconsult.net/source/nanodata-marina/browse/master/WP09_In_Vitro/P01_IOM/MARINA-TMDF-WP09-P01-All-ENM-TM3-Cell_Viability_Cytotox-WST-1.doc'\t96\n",
      "\t\t\t\t'Culture and exposure of mouse primary lung fibroblasts'\t64\n",
      "\t\t\t\t'Protocol Culture and exposure of J774'\t32\n",
      "\t\t\t\t'Protocol Culture and exposure of LA-4'\t32\n",
      "\t\t\t\t'Protocol Culture and exposure of mouse primary lung fibroblasts'\t8\n",
      "\t\t\t'LDH'\t1584\n",
      "\t\t\t\t'https://www.nanosafetycluster.eu/uploads/QUALITY_HANDBOOK/NANOMMUNE_QHB_FINAL_2011.pdf'\t480\n",
      "\t\t\t\t'https://phabricator.ideaconsult.net/diffusion/24/browse/master/WP4_InVitro/P03_EdinUni/LDH/LDH%20Assay%20SOP.doc'\t333\n",
      "\t\t\t\t'https://phabricator.ideaconsult.net/diffusion/19/browse/master/nanotest/SOP/NanoTEST%20MDF%20Cytotox_LDH%20v1%20300610_UHBristol.doc'\t294\n",
      "\t\t\t\t'https://phabricator.ideaconsult.net/diffusion/24/browse/master/WP4_InVitro/P09_HelmHoltz-Muenchen/New20120330/cytotox/ENPRA_TMD-Form_nhub-v02%20HMGU%20P9%20Cytotoxicity.doc'\t168\n",
      "\t\t\t\t'https://phabricator.ideaconsult.net/diffusion/24/browse/master/WP4_InVitro/P07_Med-Kuleuven/WP4%20P7%20LDH.doc'\t92\n",
      "\t\t\t\t'Protocol Culture and exposure of J774'\t32\n",
      "\t\t\t\t'Protocol Culture and exposure of LA-4'\t32\n",
      "\t\t\t\t'CYTOTOX ONE® ASSAY, G7891'\t31\n",
      "\t\t\t\t'Protocol Culture and exposure of mouse primary lung fibroblasts'\t30\n",
      "\t\t\t\t'PRESTOBLUE PROTOCOLL A13261'\t20\n",
      "\t\t\t\t'SIGMA'\t12\n",
      "\t\t\t'ALAMAR BLUE'\t1235\n",
      "\t\t\t\t'THERMO FISHER SCIENTIFIC'\t528\n",
      "\t\t\t\t'HTTP://WWW.NANOPARTIKEL.INFO/FILES/METHODIK/NANOMMUNE-QUALITY-HANDBOOK-SOPS.PDF'\t308\n",
      "\t\t\t\t'CIRCABC WP5'\t247\n",
      "\t\t\t\t'Protocol Culture and exposure of mouse primary lung fibroblasts'\t72\n",
      "\t\t\t\t'Protocol Culture and exposure of J774'\t32\n",
      "\t\t\t\t'Protocol Culture and exposure of LA-4'\t32\n",
      "\t\t\t'DAPI'\t1193\n",
      "\t\t\t\t'DAPI'\t1193\n",
      "\t\t\t'MTT ASSAY'\t1142\n",
      "\t\t\t\t'https://phabricator.ideaconsult.net/diffusion/19/browse/master/nanotest/SOP/NanoTEST%20MDF%20Cytotox%20MTT_CHUV.doc'\t1111\n",
      "\t\t\t'CFE'\t1000\n",
      "\t\t\t\t'CFE SOP'\t820\n",
      "\t\t\t\t'https://phabricator.ideaconsult.net/source/nanodata-marina/browse/master/WP09_In_Vitro/P15_JRC/MARINA-TMDF-WP09-P15-CFE_Caco2_final.doc'\t180\n",
      "\t\t\t'WST'\t983\n",
      "\t\t\t\t'https://phabricator.ideaconsult.net/diffusion/19/browse/master/nanotest/SOP/NonoTEST%20MDF%20Cytotox_WST-1%20UP7.doc'\t983\n",
      "\t\t\t'Hoechst 33342'\t735\n",
      "\t\t\t\t'Hoechst 33342'\t735\n",
      "\t\t\t'IMPEDANCE FLOW CYTOMETRY'\t588\n",
      "\t\t\t\t'LOCAL'\t588\n",
      "\t\t\t'CELL COUNTER'\t468\n",
      "\t\t\t'IL6, TNF, etc By ELISA'\t360\n",
      "\t\t\t\t'https://phabricator.ideaconsult.net/diffusion/19/browse/master/nanotest/SOP/Cell%20protocols.pdf'\t360\n",
      "\t\t\t'Nuclear Intensity'\t342\n",
      "\t\t\t'Nuclear area'\t342\n",
      "\t\t\t'flow cytometry'\t223\n",
      "\t\t\t\t'https://phabricator.ideaconsult.net/diffusion/19/browse/master/nanotest/SOP/NanoTest%20MDF%20Immunotox%20NK.pdf'\t223\n",
      "\t\t\t'Lysosomal dye'\t209\n",
      "\t\t\t\t'Lysosomal dye'\t209\n",
      "\t\t\t'Mitochondrial Membrane Potential dye'\t208\n",
      "\t\t\t\t'Mitochondrial Membrane Potential dye'\t208\n",
      "\t\t\t'Ki-67'\t160\n",
      "\t\t\t\t'Ki-67'\t160\n",
      "\t\t\t'cleaved caspase-3'\t160\n",
      "\t\t\t\t'cleaved caspase-3'\t160\n",
      "\t\t\t'apoptosis'\t156\n",
      "\t\t\t'cell cycle'\t156\n",
      "\t\t\t'SPECTROPHOTOMETRIC METHOD'\t102\n",
      "\t\t\t\t'NCL-ITA7'\t102\n",
      "\t\t\t'Embryonic Stem Cell Test'\t84\n",
      "\t\t\t\t'https://phabricator.ideaconsult.net/source/nanodata-marina/browse/master/WP09_In_Vitro/P36_TVUR/MARINA-TMDF-WP09-P36-TestAssay-EST.doc'\t84\n",
      "\t\t\t'TRYPAN BLUE'\t71\n",
      "\t\t\t'Fibroblast proliferation'\t51\n",
      "\t\t\t\t'ENPRA-WP4-P6-fibroblast proliferation with MWCNT'\t51\n",
      "\t\t\t'VIABILITY'\t30\n",
      "\t\t\t\t'MTS CELL VIABILITY ASSAY'\t30\n",
      "\t\t\t'TEER'\t24\n",
      "\t\t\t\t'https://phabricator.ideaconsult.net/source/nanodata-marina/browse/master/WP09_In_Vitro/P35_UniParma/MARINA-TMDF-WP09-P35_TEER_19_3_14.doc'\t24\n",
      "\t\t\t'PRESTOBLUE PROTOCOL A13261'\t12\n",
      "\t\t\t\t'PRESTOBLUE PROTOCOL A13261'\t12\n",
      "\t\t'TO_GENETIC_IN_VITRO_SECTION'\t8472\n",
      "\t\t\t'COMET'\t2927\n",
      "\t\t\t\t'NILU'\t353\n",
      "\t\t\t\t'NANOGENOTOX'\t244\n",
      "\t\t\t\t'COMET ASSAY WITH AND WITHOUT REPAIR ENZYMES'\t204\n",
      "\t\t\t\t'OXISELECT'\t89\n",
      "\t\t\t\t'NANOGENOTOX-PROTOCOL FOR GEL BOND FILM'\t12\n",
      "\t\t\t\t'OXISELECT COMET ASSAY'\t4\n",
      "\t\t\t'COMET FPG'\t2112\n",
      "\t\t\t\t'WP5'\t1576\n",
      "\t\t\t\t'NANOGENOTOX-PROTOCOL FOR GEL BOND FILM'\t108\n",
      "\t\t\t'RT-PCR'\t1680\n",
      "\t\t\t\t'LOCAL'\t1680\n",
      "\t\t\t'MICRONUCLEUS ASSAY'\t742\n",
      "\t\t\t\t'http://www.rivm.nl/dsresource?objectid=83bc116a-9695-47eb-9e78-1420de2356c8'\t384\n",
      "\t\t\t\t'FLOW CYTOMETRY'\t105\n",
      "\t\t\t\t'OECD TG487'\t30\n",
      "\t\t\t\t'https://phabricator.ideaconsult.net/diffusion/19/browse/master/nanotest/SOP/NanoTEST%20MDF%20Genotox%20Micronuclei%20TK6_SMU.pdf'\t24\n",
      "\t\t\t\t'https://phabricator.ideaconsult.net/diffusion/19/browse/master/nanotest/SOP/NanoTEST%20MDF%20Genotox%20Micronuclei%20Lymphocytes_%20SMU.pdf'\t15\n",
      "\t\t\t'Genotoxicity'\t450\n",
      "\t\t\t'H2AX phospho S139'\t148\n",
      "\t\t\t\t'H2AX phospho S139'\t148\n",
      "\t\t\t'ATM phospho S1981'\t147\n",
      "\t\t\t\t'ATM phospho S1981'\t147\n",
      "\t\t\t'p53 phospho s15'\t147\n",
      "\t\t\t\t'p53 phospho s15'\t147\n",
      "\t\t\t'CBMN ASSAY'\t47\n",
      "\t\t\t'MANUAL SCORING'\t24\n",
      "\t\t\t'MN ASSAY BY FACS'\t24\n",
      "\t\t\t'OECD TG487'\t18\n",
      "\t\t\t'MICRONUCLEUS IMMERSION'\t6\n",
      "\t\t'NPO_1339_SECTION'\t8170\n",
      "\t\t\t'radioactive tag labelling'\t3164\n",
      "\t\t\t\t'https://phabricator.ideaconsult.net/diffusion/19/browse/master/nanotest/SOP/NonoTEST%20MDF%20LTT%20Kuricova%20final.doc'\t3164\n",
      "\t\t\t'LUMINEX'\t1971\n",
      "\t\t\t\t'http://www.rivm.nl/dsresource?objectid=850e9e83-9e3b-448e-aa51-129e2390aa3f'\t1441\n",
      "\t\t\t\t'BIORAD BIOPLEX'\t504\n",
      "\t\t\t\t'BIORAD'\t26\n",
      "\t\t\t'Expression of adhesion molecules'\t1175\n",
      "\t\t\t\t'https://phabricator.ideaconsult.net/diffusion/19/browse/master/nanotest/SOP/Cell%20protocols.pdf'\t1175\n",
      "\t\t\t'ELISA'\t988\n",
      "\t\t\t\t'NCL-ITA10 V1.2'\t508\n",
      "\t\t\t\t'https://www.nanosafetycluster.eu/uploads/QUALITY_HANDBOOK/NANOMMUNE_QHB_FINAL_2011.pdf'\t336\n",
      "\t\t\t\t'KAROLINSKA INSTITUTE'\t24\n",
      "\t\t\t'ANNEXIN V_PI (FACS)'\t240\n",
      "\t\t\t\t'NANOMMUNE 3.6V1'\t240\n",
      "\t\t\t'MULTIPLEX ELISA'\t180\n",
      "\t\t\t'ELISA MULTIPLEX'\t156\n",
      "\t\t\t'GREISS REAGENT'\t128\n",
      "\t\t\t\t'NCL-ITA7'\t128\n",
      "\t\t\t'Annexin V (Apoptosis) / PI (Necrosis)'\t78\n",
      "\t\t\t\t'Nanommune'\t78\n",
      "\t\t\t'Internalization of latex beads by cells, macrophage activity, inflammation'\t66\n",
      "\t\t\t\t'https://phabricator.ideaconsult.net/source/nanodata-marina/browse/master/WP09_In_Vitro/P35_UniParma/MARINA-TMDF-WP09-P35-Latex_bead_test_19_3_14.doc'\t66\n",
      "\t\t'ENM_0000037_SECTION'\t6557\n",
      "\t\t\t'flow cytometry'\t2841\n",
      "\t\t\t\t'https://phabricator.ideaconsult.net/diffusion/19/browse/master/nanotest/SOP/NanoTEST%20MDF%20PHAGO-RESPI%2026.3.%20Neubauerova.doc'\t2841\n",
      "\t\t\t'DHE (Dihydroethidium) and Hoechst 33342'\t2332\n",
      "\t\t\t\t'https://phabricator.ideaconsult.net/diffusion/19/browse/master/nanotest/SOP/NanoTEST%20MDF%20ROS%20HCI%20_JRC.pdf'\t2332\n",
      "\t\t\t'DCFH2-DA'\t439\n",
      "\t\t\t\t'https://phabricator.ideaconsult.net/diffusion/19/browse/master/nanotest/SOP/Cell%20protocols.pdf'\t408\n",
      "\t\t\t\t'ROS ASSAY, C6827'\t31\n",
      "\t\t\t'DHE'\t408\n",
      "\t\t\t\t'https://phabricator.ideaconsult.net/diffusion/19/browse/master/nanotest/SOP/NonoTES%20MDF%20Oxidative%20stress%20HE_UP7.doc'\t408\n",
      "\t\t\t'ESR spectroscopy'\t377\n",
      "\t\t\t\t'https://phabricator.ideaconsult.net/diffusion/24/browse/master/WP4_InVitro/P10_IUF_Dusseldorf/ENPRA%20description%20ESR.doc'\t330\n",
      "\t\t\t'REACTION OXYGEN SPECIES DETECTION'\t52\n",
      "\t\t\t\t'CIRCABC WP5'\t52\n",
      "\t\t'ENM_0000044_SECTION'\t6290\n",
      "\t\t\t'LUCIFER YELLOW'\t561\n",
      "\t\t\t\t'LUCIFER YELLOW'\t421\n",
      "\t\t\t\t'SOP FOR THE EVALUATION OF NMS IMPACT ON CACO2 CELL BARRIER MODEL 29052015 V9'\t140\n",
      "\t\t\t'INTESTINAL BARRIER INTEGRITY'\t299\n",
      "\t\t\t\t'LUCIFER YELLOW'\t299\n",
      "\t\t\t'IN VITRO ORAL MUCOSA 3D MODEL'\t178\n",
      "\t\t\t\t'OWN PROTOCOL'\t178\n",
      "\t\t\t'SEM-EDX'\t144\n",
      "\t\t\t\t'NANOREG  PROTOCOL FOR NPS CROSSING CACO-2 CELL BARRIER'\t144\n",
      "\t\t\t'TEM'\t87\n",
      "\t\t\t'CONFOCAL MICROSCOPY'\t36\n",
      "\t\t\t'TEER'\t18\n",
      "\t\t\t\t'https://phabricator.ideaconsult.net/source/nanodata-marina/browse/master/WP09_In_Vitro/P35_UniParma/MARINA-TMDF-WP09-P35_TEER_19_3_14.doc'\t18\n",
      "\t\t\t'METHOD BARRIER TEST'\t9\n",
      "\t\t\t\t'LUCIFER YELLOW'\t9\n",
      "\t\t\t'TEM (FOR CONDITION 15 ΜG/ML)/STEM (FOR CONDITION 10 ΜG/ML)'\t4\n",
      "\t\t\t'TEM/STEM'\t4\n",
      "\t\t'TO_REPEATED_INHAL_SECTION'\t4226\n",
      "\t\t\t'Genotoxicity'\t959\n",
      "\t\t\t'MICRONUCLEUS ASSAY'\t582\n",
      "\t\t\t'MAY GRUNWALD GIEMSA COLORATION OF BAL CELLS CYTOSPIN'\t264\n",
      "\t\t\t'ELISA'\t222\n",
      "\t\t\t'ICP-MS'\t58\n",
      "\t\t\t'LDH'\t50\n",
      "\t\t\t'COMMERCIAL KITS'\t48\n",
      "\t\t\t'AUTOMATIC COUNT'\t28\n",
      "\t\t\t'BIOCHEMISTRY AUTOMATE'\t24\n",
      "\t\t\t'MANUAL COUNT'\t12\n",
      "\t\t'TO_REPEATED_ORAL_SECTION'\t1487\n",
      "\t\t\t'MAY GRUNWALD GIEMSA COLORATION OF BAL CELLS CYTOSPIN'\t592\n",
      "\t\t\t\t'BAL DIFF'\t592\n",
      "\t\t\t'COMET'\t276\n",
      "\t\t\t\t'COMET'\t258\n",
      "\t\t\t'ELISA'\t144\n",
      "\t\t\t\t'NCL-ITA10 V1.2'\t72\n",
      "\t\t\t'FACS ANALYSIS'\t144\n",
      "\t\t\t'MANUAL COUNT'\t77\n",
      "\t\t\t\t'BAL DIFF'\t77\n",
      "\t\t\t'CELL COUNTER'\t72\n",
      "\t\t\t'COLORIMETRIC ASSAY KEYLAB'\t72\n",
      "\t\t\t\t'MANUFACTURER'S INDICATIONS'\t72\n",
      "\t\t\t'OPTICAL MICROSCOPE'\t62\n",
      "\t\t\t\t'OECD TG 409'\t62\n",
      "\t\t\t'CCK8 ASSAY'\t24\n",
      "\t\t\t'GREISS REAGENT'\t24\n",
      "\t\t\t\t'NCL-ITA7'\t24\n",
      "\t\t'TO_GENETIC_IN_VIVO_SECTION'\t571\n",
      "\t\t\t'COMET'\t287\n",
      "\t\t\t\t'http://www.rivm.nl/dsresource?objectid=c8126a69-fbda-40af-93c6-3a7c35b91845'\t237\n",
      "\t\t\t\t'OECD TG 489'\t50\n",
      "\t\t\t'COMET FPG'\t235\n",
      "\t\t\t\t'http://www.rivm.nl/dsresource?objectid=c8126a69-fbda-40af-93c6-3a7c35b91845'\t235\n",
      "\t\t\t'MICRONUCLEUS'\t49\n",
      "\t\t\t\t'OECD TG 474'\t49\n",
      "\t\t'UNKNOWN_TOXICITY_SECTION'\t190\n",
      "\t\t\t'fluorescent rhodamine-labeled'\t100\n",
      "\t\t\t\t'https://phabricator.ideaconsult.net/diffusion/19/browse/master/nanotest/SOP/Cell%20protocols.pdf#FlSiCell'\t100\n",
      "\t\t\t'Prothrombotic effects upon systemic administration'\t36\n",
      "\t\t\t\t'http://dx.doi.org/10.3109/17435390.2014.992815'\t36\n",
      "\t\t\t'NanoTest FeCell'\t30\n",
      "\t\t\t\t'https://phabricator.ideaconsult.net/diffusion/19/browse/master/nanotest/SOP/NanoTEST%20MDF%20Uptake_iron%20CHUV.doc'\t30\n",
      "\t\t\t'systemic administration'\t24\n",
      "\t\t\t\t'http://dx.doi.org/10.3109/17435390.2014.992815'\t24\n",
      "\t'P-CHEM'\t12421\n",
      "\t\t'PC_GRANULOMETRY_SECTION'\t10553\n",
      "\t\t\t'CLS'\t240\n",
      "\t\t\t\t'NANoREG D2.08'\t240\n",
      "\t\t\t'CFE'\t168\n",
      "\t\t\t\t'CFE SOP'\t168\n",
      "\t\t\t'SEM'\t61\n",
      "\t\t\t'Differential Centrifugal Sedimentation (DCS)'\t30\n",
      "\t\t\t'SAXS'\t13\n",
      "\t\t\t\t'PhysChem_ParticleSizeDistribution_SAXS'\t13\n",
      "\t\t\t'Dynamic Light Scattering'\t12\n",
      "\t\t\t'TEM'\t3\n",
      "\t\t'ANALYTICAL_METHODS_SECTION'\t597\n",
      "\t\t\t'X-ray Photoelectron Spectroscopy (XPS)'\t51\n",
      "\t\t\t'ICP-OES'\t36\n",
      "\t\t\t'ICP-MS'\t19\n",
      "\t\t\t'Chemical composition of particles'\t6\n",
      "\t\t\t'IC'\t3\n",
      "\t\t'ENM_0000081_SECTION'\t461\n",
      "\t\t\t'TEM'\t10\n",
      "\t\t'PC_WATER_SOL_SECTION'\t207\n",
      "\t\t'ASPECT_RATIO_SHAPE_SECTION'\t193\n",
      "\t\t\t'SEM'\t8\n",
      "\t\t\t'TEM'\t5\n",
      "\t\t'SPECIFIC_SURFACE_AREA_SECTION'\t141\n",
      "\t\t'ZETA_POTENTIAL_SECTION'\t81\n",
      "\t\t'DUSTINESS_SECTION'\t69\n",
      "\t\t\t'Vortex Shaker'\t46\n",
      "\t\t\t\t'http://www.rivm.nl/dsresource?objectid=48468060-8789-44bb-a9de-341f4e3d5235'\t46\n",
      "\t\t\t'vibrofluidization'\t10\n",
      "\t\t\t\t'http://www.rivm.nl/dsresource?objectid=48468060-8789-44bb-a9de-341f4e3d5235'\t10\n",
      "\t\t'SURFACE_CHEMISTRY_SECTION'\t33\n",
      "\t\t'ENM_8000223_SECTION'\t29\n",
      "\t\t'PC_SOL_ORGANIC_SECTION'\t20\n",
      "\t\t'CRYSTALLITE_AND_GRAIN_SIZE_SECTION'\t14\n",
      "\t\t\t'XRD'\t14\n",
      "\t\t\t\t'PhysChem_CrystalliteSize_WAXD'\t6\n",
      "\t\t'AGGLOMERATION_AGGREGATION_SECTION'\t8\n",
      "\t\t\t'SEM'\t8\n",
      "\t\t'CRYSTALLINE_PHASE_SECTION'\t8\n",
      "\t\t\t'XRD'\t8\n",
      "\t\t'PC_DENSITY_SECTION'\t5\n",
      "\t\t'PC_UNKNOWN_SECTION'\t2\n",
      "\t'ECOTOX'\t416\n",
      "\t\t'EC_DAPHNIATOX_SECTION'\t213\n",
      "\t\t\t'OECD TG 202'\t72\n",
      "\t\t\t\t'SOP-TOXICITY TEST WITH MICROALGAE P.SUBCAPITATA (WITH NOM)'\t72\n",
      "\t\t\t'ACUTE TOXICITY'\t42\n",
      "\t\t\t\t'SOP-TOXICITY TEST WITH DAPHNIA MAGNA (WITHOUT NOM)'\t18\n",
      "\t\t\t\t'SOP-TOXICITY TEST WITH MICROALGAE P.SUBCAPITATA (WITHOUT NOM)'\t18\n",
      "\t\t\t\t'SOP-TOXICITY TEST WITH FISH'\t6\n",
      "\t\t\t'SOP-Toxicity Test with Daphnia magna (without NOM)'\t36\n",
      "\t\t\t\t'http://www.rivm.nl/en/Search?freetext=NANoREG+D4.12'\t36\n",
      "\t\t\t'Daphnia magna'\t24\n",
      "\t\t\t\t'NANoREG WP4'\t24\n",
      "\t\t\t'OECD TG 201'\t24\n",
      "\t\t\t\t'SOP-TOXICITY TEST WITH MICROALGAE P.SUBCAPITATA (WITH NOM)'\t24\n",
      "\t\t'EC_SOILDWELLINGTOX_SECTION'\t92\n",
      "\t\t\t'SOP-Toxicity Test with C. elegans'\t48\n",
      "\t\t\t\t'http://www.rivm.nl/en/Search?freetext=NANoREG+D4.12'\t48\n",
      "\t\t\t'ISO 10872:2010 Water QualityDetermination of the toxic effects of sediment and soil samples on growth, fertility and reproduction of Caenorhabditis elegans'\t44\n",
      "\t\t\t\t'http://www.rivm.nl/en/Search?freetext=NANoREG+D4.12'\t44\n",
      "\t\t'EC_ALGAETOX_SECTION'\t57\n",
      "\t\t\t'PSEUDOKIRCHNERIELLA SUBCAPITATA'\t43\n",
      "\t\t\t\t'NANoREG D4.12'\t25\n",
      "\t\t\t\t'NANoREG WP4'\t18\n",
      "\t\t'EC_FISHTOX_SECTION'\t34\n",
      "\t\t\t'CFDA-AM'\t12\n",
      "\t\t\t'ALAMAR BLUE'\t10\n",
      "\t\t\t'NRU'\t10\n",
      "\t\t'EC_SOIL_MICRO_TOX_SECTION'\t11\n",
      "\t\t'EC_PLANTTOX_SECTION'\t7\n",
      "\t\t'EC_SEDIMENTDWELLINGTOX_SECTION'\t2\n"
     ]
    }
   ],
   "source": [
    "fields=[\"topcategory_s\",\"endpointcategory_s\",\"E.method_s\",\"E.sop_reference_s\"]\n",
    "query=facets.getQuery(query=\"*:*\",fq=\"type_s:params\",facets=fields)\n",
    "print(query)\n",
    "r = client_solr.post(service_uri,query=query,auth=aa.GraviteeAuth(apikey_widget.value))\n",
    "print(r.status_code)\n",
    "if r.status_code==200:\n",
    "    facets.parse(r.json()['facets'])\n",
    "else:\n",
    "    print(r.status_code)"
   ]
  },
  {
   "cell_type": "markdown",
   "metadata": {},
   "source": [
    "#### [Facets] Get all material types"
   ]
  },
  {
   "cell_type": "code",
   "execution_count": null,
   "metadata": {},
   "outputs": [],
   "source": [
    "fields=[\"substanceType_hs\",\"publicname_hs\",\"name_hs\",\"dbtag_hss\"]\n",
    "query=facets.getQuery(fq=\"type_s:substance\",facets=fields)\n",
    "#print(query)\n",
    "r = client_solr.post(service_uri,query=query,auth=aa.GraviteeAuth(apikey_widget.value))\n",
    "print(r.status_code)\n",
    "if r.status_code==200:\n",
    "    facets.parse(r.json()['facets'])\n",
    "else:\n",
    "    print(r.status_code)"
   ]
  },
  {
   "cell_type": "markdown",
   "metadata": {},
   "source": [
    "#### [Facets]  Get all endpoints for nanotubes"
   ]
  },
  {
   "cell_type": "code",
   "execution_count": null,
   "metadata": {},
   "outputs": [],
   "source": [
    "query=facets.getQuery(query=\"carbon nanotube\",facets=[\"topcategory_s\",\"endpointcategory_s\",\"effectendpoint_s\",\"unit_s\"],fq=\"type_s:study\")\n",
    "#print(query)\n",
    "r = client_solr.post(service_uri,query=query,auth=aa.GraviteeAuth(apikey_widget.value))\n",
    "print(r.status_code)\n",
    "#print(r.json()['facets'])\n",
    "if r.status_code==200:\n",
    "    facets.parse(r.json()['facets'])\n",
    "else:\n",
    "    print(r.status_code)"
   ]
  },
  {
   "cell_type": "markdown",
   "metadata": {},
   "source": [
    "### Retrieve experimental data"
   ]
  },
  {
   "cell_type": "markdown",
   "metadata": {},
   "source": [
    "#### Physchem example - MWCNT size"
   ]
  },
  {
   "cell_type": "code",
   "execution_count": 112,
   "metadata": {},
   "outputs": [
    {
     "name": "stdout",
     "output_type": "stream",
     "text": [
      "{'studyfilter': '   topcategory_s:P-CHEM AND endpointcategory_s:PC_GRANULOMETRY_SECTION', 'query_organism': None, 'endpointfilter': None, 'query_guidance': None, 'fields': None}\n"
     ]
    }
   ],
   "source": [
    "reload(client_solr)\n",
    "study = client_solr.StudyDocuments()\n",
    "filter = {'topcategory_s':'P-CHEM', 'endpointcategory_s':'PC_GRANULOMETRY_SECTION' }\n",
    "study.setStudyFilter(filter)\n",
    "print(study.getSettings())\n",
    "#all TiO2 NPO_1486\n",
    "query = study.getQuery(textfilter='substanceType_s:NPO_354',rows=10000)\n",
    "r = client_solr.post(service_uri,query=query,auth=aa.GraviteeAuth(apikey_widget.value))"
   ]
  },
  {
   "cell_type": "code",
   "execution_count": 113,
   "metadata": {},
   "outputs": [
    {
     "data": {
      "application/vnd.jupyter.widget-view+json": {
       "model_id": "e2944424e54747a183d5f76194088f23",
       "version_major": 2,
       "version_minor": 0
      }
     },
     "metadata": {},
     "output_type": "display_data"
    }
   ],
   "source": [
    "#parse the data\n",
    "if r.status_code==200:\n",
    "    study = client_solr.StudyDocuments()\n",
    "    rows = study.parse(r.json()['response']['docs'])\n",
    "    df = study.rows2frame(rows)\n",
    "    rows=None\n",
    "    uuids = ['uuid.investigation','uuid.assay','uuid.document','uuid.substance']\n",
    "    df.sort_values(by=uuids)\n",
    "    display(df.head(50))\n",
    "else:\n",
    "    print(r.status_code)"
   ]
  },
  {
   "cell_type": "code",
   "execution_count": 111,
   "metadata": {},
   "outputs": [
    {
     "name": "stdout",
     "output_type": "stream",
     "text": [
      "['m.public.name', 'x.params.MEDIUM', 'value.endpoint', 'value.endpoint_type', 'value.unit']\n"
     ]
    },
    {
     "data": {
      "application/vnd.jupyter.widget-view+json": {
       "model_id": "e7266be92b9340048bc0bcc0e62e9039",
       "version_major": 2,
       "version_minor": 0
      }
     },
     "metadata": {},
     "output_type": "display_data"
    }
   ],
   "source": [
    "#Group by material and endpoint\n",
    "groups=[]\n",
    "\n",
    "groups.append(\"m.public.name\")\n",
    "#groups.append(\"x.params.E.method\")\n",
    "#groups.append(\"p.guidance\")\n",
    "groups.append(\"x.params.MEDIUM\")\n",
    "groups.append(\"value.endpoint\")\n",
    "groups.append(\"value.endpoint_type\")\n",
    "groups.append(\"value.unit\")\n",
    "print(groups)\n",
    "\n",
    "tmp=df.groupby(by=groups).agg({\"value.range.lo\" : [\"mean\",\"std\",\"count\"]}).reset_index()\n",
    "display(tmp)"
   ]
  },
  {
   "cell_type": "markdown",
   "metadata": {},
   "source": [
    "#### Tox example - TiO2 cell viability"
   ]
  },
  {
   "cell_type": "code",
   "execution_count": 116,
   "metadata": {},
   "outputs": [
    {
     "name": "stdout",
     "output_type": "stream",
     "text": [
      "{'studyfilter': '   topcategory_s:TOX AND endpointcategory_s:ENM_0000068_SECTION', 'query_organism': None, 'endpointfilter': None, 'query_guidance': None, 'fields': None}\n"
     ]
    }
   ],
   "source": [
    "reload(client_solr)\n",
    "study = client_solr.StudyDocuments()\n",
    "filter = {'topcategory_s':'TOX', 'endpointcategory_s':'ENM_0000068_SECTION' }\n",
    "study.setStudyFilter(filter)\n",
    "print(study.getSettings())\n",
    "#all TiO2 NPO_1486\n",
    "query = study.getQuery(textfilter='substanceType_s:NPO_354',rows=10000)\n",
    "r = client_solr.post(service_uri,query=query,auth=aa.GraviteeAuth(apikey_widget.value))"
   ]
  },
  {
   "cell_type": "code",
   "execution_count": 117,
   "metadata": {},
   "outputs": [
    {
     "data": {
      "application/vnd.jupyter.widget-view+json": {
       "model_id": "58384284881f4595a8a59c589f0ce69d",
       "version_major": 2,
       "version_minor": 0
      }
     },
     "metadata": {},
     "output_type": "display_data"
    }
   ],
   "source": [
    "#parse the data\n",
    "if r.status_code==200:\n",
    "    study = client_solr.StudyDocuments()\n",
    "    rows = study.parse(r.json()['response']['docs'])\n",
    "    df = study.rows2frame(rows)\n",
    "    rows=None\n",
    "    uuids = ['uuid.investigation','uuid.assay','uuid.document','uuid.substance']\n",
    "    df.sort_values(by=uuids)\n",
    "    display(df.head(50))\n",
    "else:\n",
    "    print(r.status_code)"
   ]
  },
  {
   "cell_type": "code",
   "execution_count": 126,
   "metadata": {},
   "outputs": [
    {
     "name": "stdout",
     "output_type": "stream",
     "text": [
      "['m.public.name', 'uuid.assay', 'uuid.document', 'x.params.MEDIUM', 'x.params.E.cell_type', 'x.conditions.material', 'value.endpoint', 'value.endpoint_type', 'value.unit']\n"
     ]
    },
    {
     "data": {
      "application/vnd.jupyter.widget-view+json": {
       "model_id": "325a03c00aff40cd928dbaefc1fbd531",
       "version_major": 2,
       "version_minor": 0
      }
     },
     "metadata": {},
     "output_type": "display_data"
    }
   ],
   "source": [
    "groups=[]\n",
    "\n",
    "groups.append(\"m.public.name\")\n",
    "groups.append(\"uuid.assay\")\n",
    "groups.append(\"uuid.document\")\n",
    "#groups.append(\"x.params.E.method\")\n",
    "#groups.append(\"p.guidance\")\n",
    "groups.append(\"x.params.MEDIUM\")\n",
    "groups.append(\"x.params.E.cell_type\")\n",
    "groups.append(\"x.conditions.material\")\n",
    "groups.append(\"value.endpoint\")\n",
    "groups.append(\"value.endpoint_type\")\n",
    "groups.append(\"value.unit\")\n",
    "print(groups)\n",
    "\n",
    "tmp=df.groupby(by=groups).agg({\"value.range.lo\" : [\"mean\",\"std\",\"count\"]}).reset_index()\n",
    "display(tmp)"
   ]
  },
  {
   "cell_type": "markdown",
   "metadata": {},
   "source": [
    "## eNanoMapper database API"
   ]
  },
  {
   "cell_type": "code",
   "execution_count": null,
   "metadata": {},
   "outputs": [],
   "source": []
  },
  {
   "cell_type": "code",
   "execution_count": null,
   "metadata": {},
   "outputs": [],
   "source": []
  }
 ],
 "metadata": {
  "kernelspec": {
   "display_name": "Python 3",
   "language": "python",
   "name": "python3"
  },
  "language_info": {
   "codemirror_mode": {
    "name": "ipython",
    "version": 3
   },
   "file_extension": ".py",
   "mimetype": "text/x-python",
   "name": "python",
   "nbconvert_exporter": "python",
   "pygments_lexer": "ipython3",
   "version": "3.6.6"
  },
  "toc": {
   "base_numbering": 1,
   "nav_menu": {},
   "number_sections": false,
   "sideBar": false,
   "skip_h1_title": false,
   "title_cell": "Table of Contents",
   "title_sidebar": "Contents",
   "toc_cell": false,
   "toc_position": {},
   "toc_section_display": false,
   "toc_window_display": false
  }
 },
 "nbformat": 4,
 "nbformat_minor": 2
}
