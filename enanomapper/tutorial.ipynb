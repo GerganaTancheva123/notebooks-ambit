{
 "cells": [
  {
   "cell_type": "markdown",
   "metadata": {},
   "source": [
    "# eNanoMapper database "
   ]
  },
  {
   "cell_type": "code",
   "execution_count": null,
   "metadata": {},
   "outputs": [],
   "source": [
    "# background"
   ]
  },
  {
   "cell_type": "markdown",
   "metadata": {},
   "source": [
    "## eNanoMapper data model"
   ]
  },
  {
   "cell_type": "code",
   "execution_count": null,
   "metadata": {},
   "outputs": [],
   "source": []
  },
  {
   "cell_type": "markdown",
   "metadata": {},
   "source": [
    "# Nanosafety Data aggregated search"
   ]
  },
  {
   "cell_type": "code",
   "execution_count": null,
   "metadata": {},
   "outputs": [],
   "source": [
    "from solrscope import aa\n",
    "import ipywidgets as widgets\n",
    "import requests\n",
    "from importlib import reload \n",
    "from solrscope import client_solr"
   ]
  },
  {
   "cell_type": "markdown",
   "metadata": {},
   "source": [
    "### Service selection"
   ]
  },
  {
   "cell_type": "code",
   "execution_count": null,
   "metadata": {},
   "outputs": [],
   "source": [
    "print('Select enanoMapper aggregated search service:')\n",
    "style = {'description_width': 'initial'}\n",
    "config,config_servers, config_security = aa.parseOpenAPI3()    \n",
    "service_widget = widgets.Dropdown(\n",
    "    options=config_servers['url'],\n",
    "    description='Service:',\n",
    "    disabled=False,\n",
    "    style=style\n",
    ")\n",
    "display(service_widget)"
   ]
  },
  {
   "cell_type": "code",
   "execution_count": null,
   "metadata": {},
   "outputs": [],
   "source": [
    "if config_security!='':\n",
    "    print('Enter `{}` you have received upon subscription to http://api.ideaconsult.net'.format(config_security) )\n",
    "    style = {'description_width': 'initial'}\n",
    "    apikey_widget=widgets.Text(\n",
    "        placeholder='',\n",
    "        description=config_security,\n",
    "        disabled=False,\n",
    "        style=style\n",
    "    )\n",
    "    display(apikey_widget)"
   ]
  },
  {
   "cell_type": "code",
   "execution_count": null,
   "metadata": {},
   "outputs": [],
   "source": [
    "service_uri=service_widget.value\n",
    "print(\"Sending queries to {}\".format(service_uri))\n"
   ]
  },
  {
   "cell_type": "markdown",
   "metadata": {},
   "source": [
    "### Faceted search \n",
    "#### [Facets] Get all cell types"
   ]
  },
  {
   "cell_type": "code",
   "execution_count": null,
   "metadata": {},
   "outputs": [],
   "source": [
    "reload(client_solr)\n",
    "query=client_solr.getQueryFacet(query=\"*:*\",facets=[\"E.cell_type_s\"],fq=\"type_s:params\")\n",
    "print(query)\n",
    "r = client_solr.post(service_uri,query=query,auth=aa.GraviteeAuth(apikey_widget.value))\n",
    "\n",
    "if r.status_code==200:\n",
    "    client_solr.parseFacets(r.json()['facets'])\n",
    "else:\n",
    "    print(r.status_code)"
   ]
  },
  {
   "cell_type": "markdown",
   "metadata": {},
   "source": [
    "#### [Facets] Get all protocols per endpoint for titanium dioxide nanoparticles (NPO_1486)"
   ]
  },
  {
   "cell_type": "code",
   "execution_count": null,
   "metadata": {},
   "outputs": [],
   "source": [
    "fields=[\"topcategory_s\",\"endpointcategory_s\",\"guidance_s\"]\n",
    "query=client_solr.getQueryFacet(query=\"substanceType_s:NPO_1486\",fq=\"type_s:study\",facets=fields)\n",
    "print(query)\n",
    "r = client_solr.post(service_uri,query=query,auth=aa.GraviteeAuth(apikey_widget.value))\n",
    "print(r.status_code)\n",
    "if r.status_code==200:\n",
    "    client_solr.parseFacets(r.json()['facets'])\n",
    "else:\n",
    "    print(r.status_code)"
   ]
  },
  {
   "cell_type": "markdown",
   "metadata": {},
   "source": [
    "#### [Facets] Get all material types"
   ]
  },
  {
   "cell_type": "code",
   "execution_count": null,
   "metadata": {},
   "outputs": [],
   "source": [
    "fields=[\"substanceType_hs\",\"publicname_hs\",\"name_hs\",\"dbtag_hss\"]\n",
    "query=client_solr.getQueryFacet(fq=\"type_s:substance\",facets=fields)\n",
    "#print(query)\n",
    "r = client_solr.post(service_uri,query=query,auth=aa.GraviteeAuth(apikey_widget.value))\n",
    "print(r.status_code)\n",
    "if r.status_code==200:\n",
    "    client_solr.parseFacets(r.json()['facets'])\n",
    "else:\n",
    "    print(r.status_code)"
   ]
  },
  {
   "cell_type": "markdown",
   "metadata": {},
   "source": [
    "#### [Facets]  Get all endpoints for nanotubes"
   ]
  },
  {
   "cell_type": "code",
   "execution_count": null,
   "metadata": {},
   "outputs": [],
   "source": [
    "reload(client_solr)\n",
    "query=client_solr.getQueryFacet(query=\"carbon nanotube\",facets=[\"topcategory_s\",\"endpointcategory_s\",\"effectendpoint_s\",\"unit_s\"],fq=\"type_s:study\")\n",
    "#print(query)\n",
    "r = client_solr.post(service_uri,query=query,auth=aa.GraviteeAuth(apikey_widget.value))\n",
    "print(r.status_code)\n",
    "#print(r.json()['facets'])\n",
    "if r.status_code==200:\n",
    "    client_solr.parseFacets(r.json()['facets'])\n",
    "else:\n",
    "    print(r.status_code)"
   ]
  },
  {
   "cell_type": "markdown",
   "metadata": {},
   "source": [
    "### Retrieve experimental data"
   ]
  },
  {
   "cell_type": "code",
   "execution_count": null,
   "metadata": {},
   "outputs": [],
   "source": []
  },
  {
   "cell_type": "markdown",
   "metadata": {},
   "source": [
    "## eNanoMapper database API"
   ]
  },
  {
   "cell_type": "code",
   "execution_count": null,
   "metadata": {},
   "outputs": [],
   "source": []
  },
  {
   "cell_type": "code",
   "execution_count": null,
   "metadata": {},
   "outputs": [],
   "source": []
  },
  {
   "cell_type": "code",
   "execution_count": null,
   "metadata": {},
   "outputs": [],
   "source": []
  },
  {
   "cell_type": "code",
   "execution_count": null,
   "metadata": {},
   "outputs": [],
   "source": []
  }
 ],
 "metadata": {
  "kernelspec": {
   "display_name": "Python 3",
   "language": "python",
   "name": "python3"
  },
  "language_info": {
   "codemirror_mode": {
    "name": "ipython",
    "version": 3
   },
   "file_extension": ".py",
   "mimetype": "text/x-python",
   "name": "python",
   "nbconvert_exporter": "python",
   "pygments_lexer": "ipython3",
   "version": "3.6.6"
  },
  "toc": {
   "base_numbering": 1,
   "nav_menu": {},
   "number_sections": false,
   "sideBar": false,
   "skip_h1_title": false,
   "title_cell": "Table of Contents",
   "title_sidebar": "Contents",
   "toc_cell": false,
   "toc_position": {},
   "toc_section_display": false,
   "toc_window_display": false
  }
 },
 "nbformat": 4,
 "nbformat_minor": 2
}
