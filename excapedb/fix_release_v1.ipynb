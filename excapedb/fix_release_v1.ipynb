{
 "cells": [
  {
   "cell_type": "markdown",
   "metadata": {},
   "source": [
    "# ExCAPEDB v1 fix\n",
    "\n",
    "ExCAPEDB is described in\n",
    "\n",
    "> Sun J, Jeliazkova N, Chupakin V, Golib-Dzib J-F, Engkvist O, Carlsson L, Wegner J, Ceulemans H, Georgiev I, Jeliazkov V, Kochev N, Ashby TJ, Chen H: ExCAPE-DB: an integrated large scale dataset facilitating Big Data analysis in chemogenomics. J Cheminform 2017, 9:17.  https://jcheminf.biomedcentral.com/articles/10.1186/s13321-017-0203-5\n",
    "\n",
    "The original release at Zenodo https://zenodo.org/record/173258#.XECnKVUzZlY contains a number of broken SMILES. This notebook:\n",
    "- Downloads the file from Zenodo\n",
    "- Check if RDKit is happy with the SMILES\n",
    "- If not, retrieves the MOL files from the original source (PubChem or ChEMBL)\n",
    "- Runs standadization with ambit-cli\n",
    "- Patches the Zenodo file with the new SMILES"
   ]
  },
  {
   "cell_type": "code",
   "execution_count": 2,
   "metadata": {},
   "outputs": [
    {
     "name": "stderr",
     "output_type": "stream",
     "text": [
      "2019-01-18 13:33:12,584  DEBUG    Started at nt \t2019-01-18 13:33:12.584413\n"
     ]
    }
   ],
   "source": [
    "import os,path\n",
    "import datetime\n",
    "import urllib.request\n",
    "import logging\n",
    "from logging.config import fileConfig\n",
    "from  rdkit  import  Chem\n",
    "fileConfig('logging.ini')\n",
    "%run settings.py\n",
    "logger= logging.getLogger()\n",
    "logger.debug('Started at %s \\t%s',os.name, datetime.datetime.now())"
   ]
  },
  {
   "cell_type": "code",
   "execution_count": 4,
   "metadata": {},
   "outputs": [],
   "source": [
    "import pandas as pd\n",
    "\n",
    "class ExCAPEDB():\n",
    "    def __init__(self,path, file_in='pubchem.chembl.dataset4publication_inchi_smiles.tsv.xz',file_patched='pubchem.chembl.dataset4publication_inchi_smiles_v2.tsv'):\n",
    "        self.zenodo = \"https://zenodo.org/record/173258/files/pubchem.chembl.dataset4publication_inchi_smiles.tsv.xz?download=1\"\n",
    "        self.path = path\n",
    "        self.file = \"{}/{}\".format(path,file_in)\n",
    "        self.file_patched = \"{}/pubchem.chembl.dataset4publication_inchi_smiles_v2.tsv\".format(path,file_patched)\n",
    "        self.id_tag='Original_Entry_ID'\n",
    "        self.db_tag='DB'\n",
    "        self.smi_tag='SMILES'\n",
    "        self.inchikey_tag='Ambit_InchiKey'\n",
    "        self.inchi_tag='InChI'\n",
    "        self.id_index  = None\n",
    "        self.db_index  = None\n",
    "        self.smi_index = None\n",
    "        self.inchikey_index = None\n",
    "        self.inchi_index=None\n",
    "        self.smiles_errors = {}\n",
    "        \n",
    "        \n",
    "\n",
    "    def getSmiles(self,line):\n",
    "        if line is None:\n",
    "            return None\n",
    "        return line[self.smi_index]\n",
    "    \n",
    "    def getDB(self,line):\n",
    "        if line is None:\n",
    "            return None\n",
    "        db = line[self.db_index]\n",
    "        if db.startswith(\"pubchem\"):\n",
    "            db=\"pubchem\"\n",
    "        return db    \n",
    "    \n",
    "    def getIdentifier(self,line):\n",
    "        if line is None:\n",
    "            return None\n",
    "        return line[self.id_index]    \n",
    "    \n",
    "    def read(self,process=None,_max_records=100,process_header=None):\n",
    "        import lzma\n",
    "\n",
    "        header=[]\n",
    "        r=0\n",
    "        with lzma.open(excapedb.file, mode='rt') as file:\n",
    "            prev_line=None\n",
    "            for line in file:\n",
    "                line = line.strip().split(\"\\t\")\n",
    "                if r==0:\n",
    "                    header=line\n",
    "                    self.id_index=line.index(self.id_tag)\n",
    "                    self.db_index=line.index(self.db_tag)\n",
    "                    self.smi_index=line.index(self.smi_tag)\n",
    "                    self.inchi_index=line.index(self.inchi_tag)\n",
    "                    self.inchikey_index=line.index(self.inchikey_tag)\n",
    "                    if not process_header is None:\n",
    "                        process_header(header)\n",
    "                    print(line)\n",
    "                else:    \n",
    "                    if process is None:\n",
    "                        print(line[self.id_index])\n",
    "                        print(line[self.db_index])\n",
    "                        print(line[self.smi_index])\n",
    "                    else:\n",
    "                        process(r,line,prev_line)\n",
    "                    prev_line=line    \n",
    "                    if _max_records>0 and r>_max_records:\n",
    "                        break\n",
    "                r=r+1        \n",
    "                \n",
    "    def replace(self,line, smiles,inchikey,inchi)    :\n",
    "        line[self.smi_index]=smiles\n",
    "        line[self.inchikey_index]=inchikey\n",
    "        line[self.inchi_index]=inchi\n",
    "        return line\n",
    "        \n",
    "    def check_smiles(self,num,line,prev_line=None):\n",
    "        is_error=False\n",
    "        _id = self.getIdentifier(line)\n",
    "        _db = self.getDB(line)\n",
    "        #we have checked this one already\n",
    "        if (_id == self.getIdentifier(prev_line)):\n",
    "            return\n",
    "        \n",
    "        try:\n",
    "            if _id in self.smiles_errors[_db]:\n",
    "                return\n",
    "        except:\n",
    "            pass\n",
    "\n",
    "        try:\n",
    "            smiles = self.getSmiles(line)\n",
    "            m = Chem.MolFromSmiles(smiles)\n",
    "            if m == None :\n",
    "                is_error=True\n",
    "        except ValueError as e:\n",
    "            is_error=True\n",
    "            \n",
    "        if is_error:    \n",
    "            if not _db in self.smiles_errors:\n",
    "                self.smiles_errors[_db] = []    \n",
    "            \n",
    "            self.smiles_errors[self.getDB(line)].append(_id)  \n",
    "            \n",
    "    def error_file(self,db):\n",
    "        return \"{}/errors_{}.txt\".format(self.path,db)\n",
    "        \n",
    "    def write_errors(self):\n",
    "        for db in self.smiles_errors:\n",
    "            tmp=pd.DataFrame({\"id\" : self.smiles_errors[db]})\n",
    "            file = self.error_file(db)\n",
    "            print(file)\n",
    "            tmp.to_csv(file,index=False,sep=\"\\t\")\n",
    "            \n",
    "    def read_errors(self):\n",
    "        for db in [\"pubchem\",\"chembl20\"]:\n",
    "            file = self.error_file(db)\n",
    "            tmp = pd.read_csv(file,sep=\"\\t\")            \n",
    "            self.smiles_errors[db]=tmp[\"id\"].values\n",
    "    #print(excapedb.getDB(line))\n",
    "    #print(excapedb.getIdentifier(line))\n",
    "    #print(excapedb.getSmiles(line))        \n",
    "#if os.path.isfile(excapedb[\"\"]) \n",
    "\n",
    "excapedb = ExCAPEDB(local_path)\n",
    "if not os.path.isfile(excapedb.file):\n",
    "    urllib.request.urlretrieve(excapedb.zenodo, excapedb.file)\n",
    "#print(excapedb.file)"
   ]
  },
  {
   "cell_type": "markdown",
   "metadata": {},
   "source": [
    "## Check SMILES\n"
   ]
  },
  {
   "cell_type": "code",
   "execution_count": null,
   "metadata": {},
   "outputs": [],
   "source": [
    "if not os.path.isfile(excapedb.error_file(\"pubchem\")):\n",
    "    excapedb.read(excapedb.check_smiles,_max_records=-1)\n",
    "    #Write identifiers of error SMILES into files (per data source)\n",
    "    excapedb.write_errors()\n",
    "else: # already stored , read them back                      \n",
    "    excapedb.read_errors()"
   ]
  },
  {
   "cell_type": "code",
   "execution_count": null,
   "metadata": {},
   "outputs": [],
   "source": [
    "print(excapedb.smiles_errors)\n"
   ]
  },
  {
   "cell_type": "markdown",
   "metadata": {},
   "source": [
    "## Retrieve from data source"
   ]
  },
  {
   "cell_type": "code",
   "execution_count": null,
   "metadata": {},
   "outputs": [],
   "source": [
    "import requests\n",
    "\n",
    "def retrieve(dbsource,_max_records=-1):\n",
    "    for db in dbsource:\n",
    "        try:\n",
    "            os.mkdir(\"{}/{}\".format(excapedb.path,db))\n",
    "        except:\n",
    "            pass\n",
    "                     \n",
    "        n=0\n",
    "        if db == \"chembl20\":\n",
    "            #chembl 'SDF' files are neither SDF nor mol ... \n",
    "            #they have no $$$$ record tag, but have properties after M END ...\n",
    "            url=\"https://www.ebi.ac.uk/chembl/api/data/molecule/{}.sdf\"\n",
    "            file_path=\"{}/{}/{}.sdf\"\n",
    "            suffix=\"$$$$\"         \n",
    "        else:\n",
    "            url=\"https://pubchem.ncbi.nlm.nih.gov/rest/pug/compound/cid/{}/record/sdf\"\n",
    "            file_path=\"{}/{}/{}.sdf\"\n",
    "            suffix=None\n",
    "        \n",
    "        for _id in excapedb.smiles_errors[db]:\n",
    "            file=file_path.format(excapedb.path,db,_id)\n",
    "            #logger.debug(file)\n",
    "            if not os.path.isfile(file):\n",
    "                #urllib.request.urlretrieve(url.format(_id), file)\n",
    "                try:\n",
    "                    r = requests.get(url.format(_id))\n",
    "                    if r.status_code == 200:\n",
    "                        with open(file, 'wb') as f:  \n",
    "                            f.write(r.content)\n",
    "                            if not suffix is None:\n",
    "                                f.write(suffix.encode())\n",
    "                    else:\n",
    "                        logger.error(url.format(_id))\n",
    "                except Exception as err:\n",
    "                    logger.error(\"%s %s\",err, url.format(_id))\n",
    "                    \n",
    "            n=n+1\n",
    "            if _max_records>0 and n>_max_records:\n",
    "                break\n",
    "\n",
    "excapedb.read_errors()        \n",
    "dbsource=excapedb.smiles_errors.keys()\n",
    "retrieve([\"chembl20\"])            "
   ]
  },
  {
   "cell_type": "markdown",
   "metadata": {},
   "source": [
    "These CHEMBL20 structures do not exists anymore in ChEMBL\n",
    "- https://www.ebi.ac.uk/chembl/api/data/molecule/CHEMBL554792.sdf\n",
    "- https://www.ebi.ac.uk/chembl/api/data/molecule/CHEMBL561096.sdf\n",
    "- https://www.ebi.ac.uk/chembl/api/data/molecule/CHEMBL1628593.sdf\n",
    "- https://www.ebi.ac.uk/chembl/api/data/molecule/CHEMBL561095.sdf\n",
    "- https://www.ebi.ac.uk/chembl/api/data/molecule/CHEMBL3210799.sdf\n",
    "- https://www.ebi.ac.uk/chembl/api/data/molecule/CHEMBL76164.sdf\n",
    "\n",
    "The mol files are extracted from MySQL ChEMBL20 dump instead of online query\n",
    "\n",
    "```\n",
    " SELECT chembl_id, concat(molfile,\"\\n> <chembl_id>\\n\",chembl_id,\"\\n\\n\") FROM molecule_dictionary join  compound_structures using(molregno)\n",
    " where chembl_id in (\"CHEMBL554792\",\"CHEMBL561096\",\"CHEMBL1628593\",\"CHEMBL561095\",\"CHEMBL3210799\",\"CHEMBL76164\")\n",
    "``` "
   ]
  },
  {
   "cell_type": "markdown",
   "metadata": {},
   "source": [
    "## Standardization\n",
    "\n",
    "- Download ambitcli-4.0.0-20181208.jar from  https://sourceforge.net/projects/ambit/files/Ambit2/AMBIT%20applications/ambitcli/ambitcli-4.0.0/\n",
    "- Run standardization as in  https://www.ncbi.nlm.nih.gov/pmc/articles/PMC5340785/"
   ]
  },
  {
   "cell_type": "code",
   "execution_count": null,
   "metadata": {},
   "outputs": [],
   "source": [
    "#Runs ambitcli as external file. Java has to be installed and on the path\n",
    "import subprocess\n",
    "\n",
    "tags = {\"pubchem\" : \"-d tag_tokeep=PUBCHEM_CID,PUBCHEM_OPENEYE_ISO_SMILES\", \"chembl20\" : \"-d tag_tokeep=chembl_id\"}\n",
    "ambit_bin=\"{}/ambitcli-4.0.0-20181208.jar\".format(excapedb.path)\n",
    "\n",
    "#for db in [\"chembl20\",\"pubchem\"]:\n",
    "for db in [\"chembl20\"]:\n",
    "    infile  = \"{}/{}/\".format(excapedb.path,db);\n",
    "    outfile_step1 = \"{}/{}_step01.txt\".format(excapedb.path,db);\n",
    "    outfile_step2 = \"{}/{}_step02.txt\".format(excapedb.path,db);\n",
    "    logfile= \"{}/{}.log\".format(excapedb.path,db)\n",
    "    \n",
    "    if not os.path.isfile(outfile_step1):\n",
    "        cmp_step1 = \"java -jar {} -a standardize -m post -d page=0 -d pagesize=-1 –d tautomers=false {} -d smilescanonical=false –d smiles=true -d inchi=true -i {} -o {}\".format(ambit_bin,tags[db],infile,outfile_step1)\n",
    "        print(cmp_step1)\n",
    "        subprocess.run(cmp_step1)    \n",
    "\n",
    "    if not os.path.isfile(outfile_step2):\n",
    "        cmp_step2 = \"java -jar {} -a standardize -m post -d page=0 -d pagesize=-1 –d tag_smiles=AMBIT_SMILES -d tag_inchi=AMBIT_InChI -d tag_inchikey=AMBIT_InChIKey –d tautomers=true -d splitfragments=true -d implicith=true -d smilescanonical=false -d smiles=true -d inchi=true -d neutralise=true -d isotopes=true {} -i {} -o {}\".format(ambit_bin,tags[db],outfile_step1,outfile_step2)\n",
    "        print(cmp_step2)\n",
    "        subprocess.run(cmp_step2)    "
   ]
  },
  {
   "cell_type": "markdown",
   "metadata": {},
   "source": [
    "## Patch the distribution"
   ]
  },
  {
   "cell_type": "code",
   "execution_count": 5,
   "metadata": {},
   "outputs": [
    {
     "data": {
      "application/vnd.jupyter.widget-view+json": {
       "model_id": "44f0a2a615394ab88e2842ff1e1ec507",
       "version_major": 2,
       "version_minor": 0
      }
     },
     "metadata": {},
     "output_type": "display_data"
    },
    {
     "data": {
      "application/vnd.jupyter.widget-view+json": {
       "model_id": "0aa68ba7eaec4cce9475d85dfeebefa5",
       "version_major": 2,
       "version_minor": 0
      }
     },
     "metadata": {},
     "output_type": "display_data"
    }
   ],
   "source": [
    "smiles_std={}\n",
    "ids = {\"pubchem\" : \"PUBCHEM_CID\", \"chembl20\" : \"chembl_id\"}\n",
    "for db in [\"chembl20\",\"pubchem\"]:\n",
    "    outfile_step2 = \"{}/{}_step02.txt\".format(excapedb.path,db);\n",
    "    smiles_std[db] = pd.read_csv(outfile_step2,sep=\"\\t\")\n",
    "    \n",
    "    display(smiles_std[db].head())"
   ]
  },
  {
   "cell_type": "code",
   "execution_count": 6,
   "metadata": {},
   "outputs": [
    {
     "name": "stdout",
     "output_type": "stream",
     "text": [
      "chembl_id\n",
      "G://ChemicalData/EXCAPE/excapedb_fix/pubchem.chembl.dataset4publication_inchi_smiles_v2.tsv\n"
     ]
    }
   ],
   "source": [
    "db=\"chembl20\"\n",
    "_id=ids[db]\n",
    "print(_id)\n",
    "_value='CHEMBL104260'\n",
    "tmp=smiles_std[db]\n",
    "tmp.loc[tmp[_id]==_value][\"SMILES\"].values[0]\n",
    "print(excapedb.file_patched)"
   ]
  },
  {
   "cell_type": "code",
   "execution_count": 7,
   "metadata": {},
   "outputs": [
    {
     "name": "stdout",
     "output_type": "stream",
     "text": [
      "[  664065  1479464 11834578 ... 16031493 57398070 22519912]\n",
      "['CHEMBL1498877' 'CHEMBL1598851' 'CHEMBL1428547' ... 'CHEMBL1889571'\n",
      " 'CHEMBL2047019' 'CHEMBL1714078']\n",
      "['Ambit_InchiKey', 'Original_Entry_ID', 'Entrez_ID', 'Activity_Flag', 'pXC50', 'DB', 'Original_Assay_ID', 'Tax_ID', 'Gene_Symbol', 'Ortholog_Group', 'InChI', 'SMILES']\n"
     ]
    },
    {
     "name": "stderr",
     "output_type": "stream",
     "text": [
      "2019-01-18 13:42:19,787  INFO     8400000\n",
      "2019-01-18 13:44:07,300  INFO     10300000\n",
      "2019-01-18 13:50:49,879  INFO     17900000\n",
      "2019-01-18 13:51:53,992  INFO     19000000\n",
      "2019-01-18 13:59:30,374  INFO     27800000\n",
      "2019-01-18 13:59:36,824  INFO     27900000\n",
      "2019-01-18 14:27:07,472  INFO     60900000\n"
     ]
    }
   ],
   "source": [
    "def process_header(line):\n",
    "    patched_fh.write(\"\\t\".join(line))\n",
    "    patched_fh.write(\"\\tupdated\")\n",
    "    patched_fh.write(\"\\n\")\n",
    "    \n",
    "def patch_smiles(num,line,prev_line=None):\n",
    "    _id = excapedb.getIdentifier(line)\n",
    "    _db = excapedb.getDB(line)\n",
    "    _smiles = excapedb.getSmiles(line)\n",
    "    if (_db==\"pubchem\"):\n",
    "        _id=int(_id)\n",
    "    \n",
    "    updated=\"\"\n",
    "    if _id in excapedb.smiles_errors[_db]:\n",
    "        if num % 100000 == 0:\n",
    "            logger.info(num)\n",
    "        #print(_smiles)\n",
    "        if _db in smiles_std:\n",
    "            try:\n",
    "                _tag=ids[_db]\n",
    "                tmp=smiles_std[_db]\n",
    "                rows = tmp.loc[tmp[_tag]==_id]\n",
    "                \n",
    "                new_smiles=rows['SMILES'].values[0]\n",
    "                new_inchi=rows['InChI'].values[0]\n",
    "                new_inchikey=rows['InChIKey'].values[0]\n",
    "                line = excapedb.replace(line, new_smiles,new_inchikey,new_inchi)\n",
    "                updated=\"v2\"\n",
    "            except Exception as err:\n",
    "                logger.error(err)\n",
    "                updated=\"(v2)\"\n",
    "                pass\n",
    "    #write it        \n",
    "    patched_fh.write(\"\\t\".join(line))\n",
    "    patched_fh.write(\"\\t\")\n",
    "    patched_fh.write(updated)\n",
    "    patched_fh.write(\"\\n\")\n",
    "    \n",
    "            \n",
    "excapedb.read_errors()        \n",
    "print( excapedb.smiles_errors[\"pubchem\"])\n",
    "print( excapedb.smiles_errors[\"chembl20\"])\n",
    "\n",
    "patched_fh = open(excapedb.file_patched,\"w\") \n",
    "excapedb.read(patch_smiles,_max_records=-1,process_header=process_header)\n",
    "patched_fh.close()"
   ]
  },
  {
   "cell_type": "code",
   "execution_count": null,
   "metadata": {},
   "outputs": [],
   "source": []
  }
 ],
 "metadata": {
  "kernelspec": {
   "display_name": "Python 3",
   "language": "python",
   "name": "python3"
  },
  "language_info": {
   "codemirror_mode": {
    "name": "ipython",
    "version": 3
   },
   "file_extension": ".py",
   "mimetype": "text/x-python",
   "name": "python",
   "nbconvert_exporter": "python",
   "pygments_lexer": "ipython3",
   "version": "3.6.4"
  },
  "toc": {
   "base_numbering": 1,
   "nav_menu": {},
   "number_sections": false,
   "sideBar": false,
   "skip_h1_title": false,
   "title_cell": "Table of Contents",
   "title_sidebar": "Contents",
   "toc_cell": false,
   "toc_position": {},
   "toc_section_display": false,
   "toc_window_display": false
  }
 },
 "nbformat": 4,
 "nbformat_minor": 2
}
