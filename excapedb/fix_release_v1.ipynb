{
 "cells": [
  {
   "cell_type": "markdown",
   "metadata": {},
   "source": [
    "# ExCAPEDB v1 fix\n",
    "\n",
    "The original release https://zenodo.org/record/173258#.XECnKVUzZlY contains a number of broken SMILES."
   ]
  },
  {
   "cell_type": "code",
   "execution_count": 60,
   "metadata": {},
   "outputs": [
    {
     "name": "stderr",
     "output_type": "stream",
     "text": [
      "2019-01-17 19:33:53,553  DEBUG    Started at nt \t2019-01-17 19:33:53.553325\n"
     ]
    }
   ],
   "source": [
    "import os,path\n",
    "import datetime\n",
    "import urllib.request\n",
    "import logging\n",
    "from logging.config import fileConfig\n",
    "from  rdkit  import  Chem\n",
    "fileConfig('logging.ini')\n",
    "%run settings.py\n",
    "logger= logging.getLogger()\n",
    "logger.debug('Started at %s \\t%s',os.name, datetime.datetime.now())"
   ]
  },
  {
   "cell_type": "code",
   "execution_count": 118,
   "metadata": {},
   "outputs": [
    {
     "name": "stdout",
     "output_type": "stream",
     "text": [
      "G://ChemicalData/EXCAPE/excapedb_fix/pubchem.chembl.dataset4publication_inchi_smiles.tsv.xz\n"
     ]
    }
   ],
   "source": [
    "import pandas as pd\n",
    "\n",
    "class ExCAPEDB():\n",
    "    def __init__(self,path):\n",
    "        self.zenodo = \"https://zenodo.org/record/173258/files/pubchem.chembl.dataset4publication_inchi_smiles.tsv.xz?download=1\"\n",
    "        self.path = path\n",
    "        self.file = \"{}/pubchem.chembl.dataset4publication_inchi_smiles.tsv.xz\".format(path)\n",
    "        self.id_tag='Original_Entry_ID'\n",
    "        self.db_tag='DB'\n",
    "        self.smi_tag='SMILES'\n",
    "        self.id_index  = None\n",
    "        self.db_index  = None\n",
    "        self.smi_index = None\n",
    "        self.smiles_errors = {}\n",
    "\n",
    "    def getSmiles(self,line):\n",
    "        if line is None:\n",
    "            return None\n",
    "        return line[self.smi_index]\n",
    "    \n",
    "    def getDB(self,line):\n",
    "        if line is None:\n",
    "            return None\n",
    "        db = line[self.db_index]\n",
    "        if db.startswith(\"pubchem\"):\n",
    "            db=\"pubchem\"\n",
    "        return db    \n",
    "    \n",
    "    def getIdentifier(self,line):\n",
    "        if line is None:\n",
    "            return None\n",
    "        return line[self.id_index]    \n",
    "    \n",
    "    def read(self,process=None,_max_records=100):\n",
    "        import lzma\n",
    "\n",
    "        header=[]\n",
    "        r=0\n",
    "        with lzma.open(excapedb.file, mode='rt') as file:\n",
    "            prev_line=None\n",
    "            for line in file:\n",
    "                line = line.strip().split(\"\\t\")\n",
    "                if r==0:\n",
    "                    header=line\n",
    "                    self.id_index=line.index(self.id_tag)\n",
    "                    self.db_index=line.index(self.db_tag)\n",
    "                    self.smi_index=line.index(self.smi_tag)\n",
    "                    print(line)\n",
    "                else:    \n",
    "                    if process is None:\n",
    "                        print(line[self.id_index])\n",
    "                        print(line[self.db_index])\n",
    "                        print(line[self.smi_index])\n",
    "                    else:\n",
    "                        process(r,line,prev_line)\n",
    "                    prev_line=line    \n",
    "                    if _max_records>0 and r>_max_records:\n",
    "                        break\n",
    "                r=r+1        \n",
    "        \n",
    "        \n",
    "    def check_smiles(self,num,line,prev_line=None):\n",
    "        is_error=False\n",
    "        _id = self.getIdentifier(line)\n",
    "        _db = self.getDB(line)\n",
    "        #we have checked this one already\n",
    "        if (_id == self.getIdentifier(prev_line)):\n",
    "            return\n",
    "        \n",
    "        try:\n",
    "            if _id in self.smiles_errors[_db]:\n",
    "                return\n",
    "        except:\n",
    "            pass\n",
    "\n",
    "        try:\n",
    "            smiles = self.getSmiles(line)\n",
    "            m = Chem.MolFromSmiles(smiles)\n",
    "            if m == None :\n",
    "                is_error=True\n",
    "        except ValueError as e:\n",
    "            is_error=True\n",
    "            \n",
    "        if is_error:    \n",
    "            if not _db in self.smiles_errors:\n",
    "                self.smiles_errors[_db] = []    \n",
    "            \n",
    "            self.smiles_errors[self.getDB(line)].append(_id)  \n",
    "            \n",
    "    def error_file(self,db):\n",
    "        return \"{}/errors_{}.txt\".format(self.path,db)\n",
    "        \n",
    "    def write_errors(self):\n",
    "        for db in self.smiles_errors:\n",
    "            tmp=pd.DataFrame({\"id\" : self.smiles_errors[db]})\n",
    "            file = self.error_file(db)\n",
    "            print(file)\n",
    "            tmp.to_csv(file,index=False,sep=\"\\t\")\n",
    "            \n",
    "    def read_errors(self):\n",
    "        for db in [\"pubchem\",\"chembl20\"]:\n",
    "            file = self.error_file(db)\n",
    "            tmp = pd.read_csv(file,sep=\"\\t\")            \n",
    "            self.smiles_errors[db]=tmp[\"id\"].values\n",
    "    #print(excapedb.getDB(line))\n",
    "    #print(excapedb.getIdentifier(line))\n",
    "    #print(excapedb.getSmiles(line))        \n",
    "#if os.path.isfile(excapedb[\"\"]) \n",
    "\n",
    "excapedb = ExCAPEDB(local_path)\n",
    "if not os.path.isfile(excapedb.file):\n",
    "    urllib.request.urlretrieve(excapedb.zenodo, excapedb.file)\n",
    "print(excapedb.file)"
   ]
  },
  {
   "cell_type": "code",
   "execution_count": 98,
   "metadata": {},
   "outputs": [
    {
     "name": "stdout",
     "output_type": "stream",
     "text": [
      "['Ambit_InchiKey', 'Original_Entry_ID', 'Entrez_ID', 'Activity_Flag', 'pXC50', 'DB', 'Original_Assay_ID', 'Tax_ID', 'Gene_Symbol', 'Ortholog_Group', 'InChI', 'SMILES']\n"
     ]
    }
   ],
   "source": [
    "def process(num,line,prev_line=None):\n",
    "    smiles = excapedb.getSmiles(line)\n",
    "    print(smiles)\n",
    "            \n",
    "    #print(excapedb.getDB(line))\n",
    "    #print(excapedb.getIdentifier(line))\n",
    "    #print(excapedb.getSmiles(line))\n",
    "\n",
    "def retrieve(num,line,prev_line=None):\n",
    "    url=None\n",
    "    if \"excapedb.getDB(line)\" == \"chembl20\":\n",
    "        url=\"https://www.ebi.ac.uk/chembl/api/data/molecule/{}.sdf\".format(excapedb.getIdentifier(line))\n",
    "    else:\n",
    "        url=\"https://pubchem.ncbi.nlm.nih.gov/rest/pug/compound/cid/{}/record/sdf\".format(excapedb.getIdentifier(line))\n",
    "        \n",
    "excapedb.read(excapedb.check_smiles,_max_records=-1)\n",
    "excapedb.write_errors()"
   ]
  },
  {
   "cell_type": "code",
   "execution_count": 120,
   "metadata": {},
   "outputs": [
    {
     "name": "stdout",
     "output_type": "stream",
     "text": [
      "{'pubchem': array([  664065,  1479464, 11834578, ..., 16031493, 57398070, 22519912],\n",
      "      dtype=int64), 'chembl20': array(['CHEMBL1498877', 'CHEMBL1598851', 'CHEMBL1428547', ...,\n",
      "       'CHEMBL1889571', 'CHEMBL2047019', 'CHEMBL1714078'], dtype=object)}\n"
     ]
    }
   ],
   "source": [
    "print(excapedb.smiles_errors)\n"
   ]
  },
  {
   "cell_type": "code",
   "execution_count": 119,
   "metadata": {},
   "outputs": [],
   "source": [
    "excapedb.read_errors()"
   ]
  },
  {
   "cell_type": "code",
   "execution_count": null,
   "metadata": {},
   "outputs": [],
   "source": []
  }
 ],
 "metadata": {
  "kernelspec": {
   "display_name": "Python 3",
   "language": "python",
   "name": "python3"
  },
  "language_info": {
   "codemirror_mode": {
    "name": "ipython",
    "version": 3
   },
   "file_extension": ".py",
   "mimetype": "text/x-python",
   "name": "python",
   "nbconvert_exporter": "python",
   "pygments_lexer": "ipython3",
   "version": "3.6.4"
  },
  "toc": {
   "base_numbering": 1,
   "nav_menu": {},
   "number_sections": false,
   "sideBar": false,
   "skip_h1_title": false,
   "title_cell": "Table of Contents",
   "title_sidebar": "Contents",
   "toc_cell": false,
   "toc_position": {},
   "toc_section_display": false,
   "toc_window_display": false
  }
 },
 "nbformat": 4,
 "nbformat_minor": 2
}
