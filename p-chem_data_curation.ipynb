{
 "cells": [
  {
   "cell_type": "markdown",
   "id": "e3b1dbcc",
   "metadata": {},
   "source": [
    "#### Data curation P-CHEM\n",
    "##### Notebook, which check for errors and omissions in P-CHEM data terminology"
   ]
  },
  {
   "cell_type": "code",
   "execution_count": null,
   "id": "5939dc5c",
   "metadata": {},
   "outputs": [],
   "source": [
    "from pynanomapper import aa\n",
    "import ipywidgets as widgets\n",
    "import textdistance\n",
    "from ipywidgets import interact, interactive, fixed, interact_manual, Dropdown\n",
    "import requests\n",
    "from importlib import reload \n",
    "from pynanomapper import client_solr\n",
    "from pynanomapper import client_ambit\n",
    "from pynanomapper import annotation\n",
    "import pandas as pd\n",
    "import numpy as np\n",
    "import json\n",
    "from itertools import chain\n",
    "import warnings\n",
    "warnings.filterwarnings(\"ignore\")"
   ]
  },
  {
   "cell_type": "code",
   "execution_count": null,
   "id": "e0662188",
   "metadata": {},
   "outputs": [],
   "source": [
    "templates_endpoints = {'BET':['SPECIFIC_SURFACE_AREA_SECTION']\n",
    "       ,'DLS':['PC_GRANULOMETRY_SECTION', 'ZETA_POTENTIAL_SECTION']\n",
    "       ,'XRD':['CRYSTALLITE_AND_GRAIN_SIZE_SECTION','CRYSTALLINE_PHASE_SECTION']\n",
    "       ,'ZETA_POTENTIAL':['ZETA_POTENTIAL_SECTION']\n",
    "       ,'TEM':['PC_GRANULOMETRY_SECTION', 'ASPECT_RATIO_SHAPE_SECTION', 'ENM_0000081_SECTION']\n",
    "       ,'CFS':[],'XRF':[],'DCFH2_DA':[],'SEQUENTIAL_GIT':[],'WST':[],'CONTACT_ANGLE':[],'TGA_MS':[]\n",
    "       ,'SEARS_TITRATION':[],'IEP':[],'ES_DMA':[],'EFFECTIVE_DENSITY':[],'AUC':[],'DUSTINESS_SMALL_DRUM':[],'HE_PYCNOMETRY':[]}\n",
    "\n",
    "templates_name = Dropdown(options = templates_endpoints.keys())\n",
    "endp_category = Dropdown(options = templates_endpoints[templates_name.value]) \n",
    "\n",
    "@interact(templates = templates_name, endpoint_category = endp_category)\n",
    "def print_category(templates, endpoint_category):\n",
    "    endp_category.options = templates_endpoints[templates] \n",
    "    #print(Top_endpoint_category,Endpoint_category)"
   ]
  },
  {
   "cell_type": "markdown",
   "id": "0d3802c4",
   "metadata": {},
   "source": [
    "##### Expected terms from different Template Wizard : physchem"
   ]
  },
  {
   "cell_type": "code",
   "execution_count": null,
   "id": "e45e7c70",
   "metadata": {},
   "outputs": [],
   "source": [
    "query = \"https://search.data.enanomapper.net/api/templates/pchem.json\"\n",
    "response = requests.get(query)\n",
    "if response.status_code != 200:\n",
    "    print(\"Something went wrong. Status code \",response.status_code)\n",
    "else:\n",
    "    data_templ = response.json()\n",
    "data_templ"
   ]
  },
  {
   "cell_type": "code",
   "execution_count": null,
   "id": "7dac4bd9",
   "metadata": {},
   "outputs": [],
   "source": [
    "# collect terms in dict by templates\n",
    "templ = {}\n",
    "templates = []\n",
    "for item in data_templ[\"templates\"]:\n",
    "    templates.append(item)\n",
    "    value_list = []\n",
    "    for i in data_templ[\"templates\"][item]:\n",
    "        value_list.append(i)\n",
    "    templ[item] = value_list\n",
    "print(templates)"
   ]
  },
  {
   "cell_type": "code",
   "execution_count": null,
   "id": "06bf5dd8",
   "metadata": {},
   "outputs": [],
   "source": [
    "# collect terms that can be skip\n",
    "fields_dict = {}\n",
    "fields = []\n",
    "for item in data_templ[\"fields\"]:\n",
    "    fields.append(item)\n",
    "    value_list = []\n",
    "    for terms in data_templ[\"fields\"][item]:\n",
    "        value_list.append(terms)\n",
    "    fields_dict[item] = value_list\n",
    "\n",
    "fields_terms = list(chain(*fields_dict.values()))\n",
    "fields_terms = list(map(lambda x: x.replace('_', ''), fields_terms))\n",
    "fields_terms"
   ]
  },
  {
   "cell_type": "markdown",
   "id": "12f01795",
   "metadata": {},
   "source": [
    "#### Aggregated search using Solr-API for search over eNanoMapper database instances. "
   ]
  },
  {
   "cell_type": "code",
   "execution_count": null,
   "id": "c1379237",
   "metadata": {},
   "outputs": [],
   "source": [
    "print('Select enanoMapper aggregated search service:')\n",
    "def search_service_protected(url,apikey):\n",
    "    return (url,apikey)\n",
    "style = {'description_width': 'initial'}\n",
    "config,config_servers, config_security, auth_object, msg = aa.parseOpenAPI3()    \n",
    "service_widget = widgets.Dropdown(\n",
    "    options=config_servers['url'],\n",
    "    description='Service:',\n",
    "    disabled=False,\n",
    "    style=style)\n",
    "if config_security is None:\n",
    "    service = interactive(search_service_open,url=service_widget)\n",
    "else:\n",
    "    print(msg)\n",
    "    apikey_widget=widgets.Text(\n",
    "            placeholder='',\n",
    "            description=config_security,\n",
    "            disabled=False,\n",
    "            style=style\n",
    "    )    \n",
    "    service = interactive(search_service_protected,url=service_widget,apikey=apikey_widget)    \n",
    "\n",
    "display(service)"
   ]
  },
  {
   "cell_type": "code",
   "execution_count": null,
   "id": "3bc3f187",
   "metadata": {},
   "outputs": [],
   "source": [
    "service_uri=service_widget.value\n",
    "print(\"Sending queries to {}\".format(service_uri))\n",
    "if auth_object!=None:\n",
    "    auth_object.setKey(apikey_widget.value)"
   ]
  },
  {
   "cell_type": "code",
   "execution_count": null,
   "id": "d8233a72",
   "metadata": {},
   "outputs": [],
   "source": [
    "display(templates_name)\n",
    "display(endp_category)"
   ]
  },
  {
   "cell_type": "code",
   "execution_count": null,
   "id": "c868a5df",
   "metadata": {},
   "outputs": [],
   "source": [
    "reload(client_solr)\n",
    "study = client_solr.StudyDocuments()\n",
    "#endpoint_category = endpointcategory.value\n",
    "filter = {'topcategory_s':'P-CHEM', 'endpointcategory_s': endp_category.value}\n",
    "study.setStudyFilter(filter)\n",
    "#this is important to retrieve params & conditions fields!\n",
    "study.getSettings()[\"fields\"]= \"*\"\n",
    "print(study.getSettings())\n",
    "query = study.getQuery(rows=10000)\n",
    "#query = study.getQuery(textfilter='*:*',rows=10000)\n",
    "print(query)\n",
    "r = client_solr.post(service_uri,query=query,auth=auth_object)"
   ]
  },
  {
   "cell_type": "code",
   "execution_count": null,
   "id": "3f8740f5",
   "metadata": {
    "scrolled": true
   },
   "outputs": [],
   "source": [
    "#parse the data\n",
    "if r.status_code==200:\n",
    "    study = client_solr.StudyDocuments()\n",
    "    docs = r.json()['response']['docs']\n",
    "    rows = study.parse(docs)\n",
    "    df = study.rows2frame(rows)\n",
    "    rows=None\n",
    "    uuids = ['uuid.substance']\n",
    "    df.sort_values(by=uuids)\n",
    "    pd.set_option('display.max_columns', None)\n",
    "    pd.set_option('display.max_rows', None)\n",
    "    display(df.head(50))\n",
    "else:\n",
    "    print(r.status_code)"
   ]
  },
  {
   "cell_type": "markdown",
   "id": "39416bba",
   "metadata": {},
   "source": [
    "#### Collected data terms and appropriate converted them for comparing"
   ]
  },
  {
   "cell_type": "code",
   "execution_count": null,
   "id": "fefbed60",
   "metadata": {},
   "outputs": [],
   "source": [
    "df_xparams_collect = []\n",
    "for column in df.columns:\n",
    "    if column.startswith('x.params.'):\n",
    "        column = column.replace('x.params.','').replace('.','').replace('_d','').replace(' ','').replace('_','').upper()\n",
    "        #column=column.replace('x.params.','').strip('.').strip('d').strip('_').strip(\" \").upper()\n",
    "        df_xparams_collect.append(column)\n",
    "\n",
    "print(df_xparams_collect)"
   ]
  },
  {
   "cell_type": "code",
   "execution_count": null,
   "id": "6a665c8d",
   "metadata": {},
   "outputs": [],
   "source": [
    "# taked terms from chosen template\n",
    "\n",
    "template = (templ[templates_name.value])\n",
    "template_params_collect = []\n",
    "for term in template:\n",
    "    if term.startswith('PARAMS_'):\n",
    "        term = term.replace('PARAMS_', '').replace('_s','').replace('_','').upper()\n",
    "        template_params_collect.append(term)\n",
    "print(template_params_collect)"
   ]
  },
  {
   "cell_type": "markdown",
   "id": "8bf0a76b",
   "metadata": {},
   "source": [
    "#### Full matching, similar and potencial errors terms\n",
    "###### https://en.wikipedia.org/wiki/Levenshtein_distance"
   ]
  },
  {
   "cell_type": "code",
   "execution_count": null,
   "id": "3a8ef339",
   "metadata": {},
   "outputs": [],
   "source": [
    "potencial_error_terms = []\n",
    "similar_terms = []\n",
    "equal_terms = []\n",
    "\n",
    "for df_par in df_xparams_collect:\n",
    "    for tpl_par in template_params_collect:\n",
    "        normalized_similarity = round(textdistance.levenshtein.normalized_similarity(df_par,tpl_par),2)\n",
    "        \n",
    "        if normalized_similarity == 1:\n",
    "            equal_terms.append([tpl_par,df_par])\n",
    "            \n",
    "        if 0.9 <= normalized_similarity < 1:\n",
    "            potencial_error_terms.append([tpl_par,df_par])\n",
    "            \n",
    "        if 0.5 <= normalized_similarity < 0.9:\n",
    "                similar_terms.append([tpl_par,df_par,normalized_similarity])"
   ]
  },
  {
   "cell_type": "code",
   "execution_count": null,
   "id": "9c10f01f",
   "metadata": {},
   "outputs": [],
   "source": [
    "print(f'\\n'.join(str(x) for x in equal_terms))"
   ]
  },
  {
   "cell_type": "code",
   "execution_count": null,
   "id": "7b61a48b",
   "metadata": {},
   "outputs": [],
   "source": [
    "print(f'\\n'.join(str(x) for x in potencial_error_terms))"
   ]
  },
  {
   "cell_type": "code",
   "execution_count": null,
   "id": "de525c8b",
   "metadata": {},
   "outputs": [],
   "source": [
    "print(f'\\n'.join(str(x) for x in similar_terms))"
   ]
  },
  {
   "cell_type": "markdown",
   "id": "a39083ee",
   "metadata": {},
   "source": [
    "#### Check for data completness"
   ]
  },
  {
   "cell_type": "code",
   "execution_count": null,
   "id": "c2d9b059",
   "metadata": {},
   "outputs": [],
   "source": [
    "# skip terms from template 'fields'\n",
    "for term in fields_terms:\n",
    "    if term in template_params_collect:\n",
    "        template_params_collect.remove(term)\n",
    "    if term in df_xparams_collect:\n",
    "        df_xparams_collect.remove(term)\n",
    "        \n",
    "# after skipped terms\n",
    "print(f'\\n'.join(str(x) for x in template_params_collect))\n",
    "print()\n",
    "print(f'\\n'.join(str(x) for x in df_xparams_collect))"
   ]
  },
  {
   "cell_type": "code",
   "execution_count": null,
   "id": "f2b26c28",
   "metadata": {},
   "outputs": [],
   "source": [
    "# remove potencial error terms from df collected terms\n",
    "for tpl_par, df_par in potencial_error_terms:\n",
    "    if df_par in df_xparams_collect:\n",
    "        df_xparams_collect.remove(df_par)"
   ]
  },
  {
   "cell_type": "code",
   "execution_count": null,
   "id": "4851df49",
   "metadata": {},
   "outputs": [],
   "source": [
    "mandatory_terms = set(template_params_collect).difference(set(df_xparams_collect)) \n",
    "recomended_terms = set(df_xparams_collect).difference(set(template_params_collect))\n",
    "\n",
    "print(f\"Terms that be mandatory to be added in database: \\n{', '.join([str(x) for x in mandatory_terms])}\\n\")\n",
    "print(f\"Terms that be recommended to be added in template parameters: \\n{', '.join([str(x) for x in recomended_terms])}\")"
   ]
  },
  {
   "cell_type": "code",
   "execution_count": null,
   "id": "ed83394d",
   "metadata": {},
   "outputs": [],
   "source": []
  }
 ],
 "metadata": {
  "kernelspec": {
   "display_name": "Python 3 (ipykernel)",
   "language": "python",
   "name": "python3"
  },
  "language_info": {
   "codemirror_mode": {
    "name": "ipython",
    "version": 3
   },
   "file_extension": ".py",
   "mimetype": "text/x-python",
   "name": "python",
   "nbconvert_exporter": "python",
   "pygments_lexer": "ipython3",
   "version": "3.8.12"
  }
 },
 "nbformat": 4,
 "nbformat_minor": 5
}
